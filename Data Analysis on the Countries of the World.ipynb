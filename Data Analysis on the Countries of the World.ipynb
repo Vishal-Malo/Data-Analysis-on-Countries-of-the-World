{
 "cells": [
  {
   "cell_type": "code",
   "execution_count": 1,
   "metadata": {},
   "outputs": [],
   "source": [
    "import numpy as np\n",
    "import pandas as pd\n",
    "import matplotlib.pyplot as plt\n",
    "%matplotlib inline"
   ]
  },
  {
   "cell_type": "code",
   "execution_count": 2,
   "metadata": {},
   "outputs": [],
   "source": [
    "data=pd.read_csv('countries of the world.csv')"
   ]
  },
  {
   "cell_type": "code",
   "execution_count": 3,
   "metadata": {},
   "outputs": [
    {
     "data": {
      "text/html": [
       "<div>\n",
       "<style scoped>\n",
       "    .dataframe tbody tr th:only-of-type {\n",
       "        vertical-align: middle;\n",
       "    }\n",
       "\n",
       "    .dataframe tbody tr th {\n",
       "        vertical-align: top;\n",
       "    }\n",
       "\n",
       "    .dataframe thead th {\n",
       "        text-align: right;\n",
       "    }\n",
       "</style>\n",
       "<table border=\"1\" class=\"dataframe\">\n",
       "  <thead>\n",
       "    <tr style=\"text-align: right;\">\n",
       "      <th></th>\n",
       "      <th>Country</th>\n",
       "      <th>Region</th>\n",
       "      <th>Population</th>\n",
       "      <th>Area (sq. mi.)</th>\n",
       "      <th>Pop. Density (per sq. mi.)</th>\n",
       "      <th>Coastline (coast/area ratio)</th>\n",
       "      <th>Net migration</th>\n",
       "      <th>Infant mortality (per 1000 births)</th>\n",
       "      <th>GDP ($ per capita)</th>\n",
       "      <th>Literacy (%)</th>\n",
       "      <th>Phones (per 1000)</th>\n",
       "      <th>Arable (%)</th>\n",
       "      <th>Crops (%)</th>\n",
       "      <th>Other (%)</th>\n",
       "      <th>Climate</th>\n",
       "      <th>Birthrate</th>\n",
       "      <th>Deathrate</th>\n",
       "      <th>Agriculture</th>\n",
       "      <th>Industry</th>\n",
       "      <th>Service</th>\n",
       "    </tr>\n",
       "  </thead>\n",
       "  <tbody>\n",
       "    <tr>\n",
       "      <th>0</th>\n",
       "      <td>Afghanistan</td>\n",
       "      <td>ASIA (EX. NEAR EAST)</td>\n",
       "      <td>31056997</td>\n",
       "      <td>647500</td>\n",
       "      <td>48,0</td>\n",
       "      <td>0,00</td>\n",
       "      <td>23,06</td>\n",
       "      <td>163,07</td>\n",
       "      <td>700.0</td>\n",
       "      <td>36,0</td>\n",
       "      <td>3,2</td>\n",
       "      <td>12,13</td>\n",
       "      <td>0,22</td>\n",
       "      <td>87,65</td>\n",
       "      <td>1</td>\n",
       "      <td>46,6</td>\n",
       "      <td>20,34</td>\n",
       "      <td>0,38</td>\n",
       "      <td>0,24</td>\n",
       "      <td>0,38</td>\n",
       "    </tr>\n",
       "    <tr>\n",
       "      <th>1</th>\n",
       "      <td>Albania</td>\n",
       "      <td>EASTERN EUROPE</td>\n",
       "      <td>3581655</td>\n",
       "      <td>28748</td>\n",
       "      <td>124,6</td>\n",
       "      <td>1,26</td>\n",
       "      <td>-4,93</td>\n",
       "      <td>21,52</td>\n",
       "      <td>4500.0</td>\n",
       "      <td>86,5</td>\n",
       "      <td>71,2</td>\n",
       "      <td>21,09</td>\n",
       "      <td>4,42</td>\n",
       "      <td>74,49</td>\n",
       "      <td>3</td>\n",
       "      <td>15,11</td>\n",
       "      <td>5,22</td>\n",
       "      <td>0,232</td>\n",
       "      <td>0,188</td>\n",
       "      <td>0,579</td>\n",
       "    </tr>\n",
       "    <tr>\n",
       "      <th>2</th>\n",
       "      <td>Algeria</td>\n",
       "      <td>NORTHERN AFRICA</td>\n",
       "      <td>32930091</td>\n",
       "      <td>2381740</td>\n",
       "      <td>13,8</td>\n",
       "      <td>0,04</td>\n",
       "      <td>-0,39</td>\n",
       "      <td>31</td>\n",
       "      <td>6000.0</td>\n",
       "      <td>70,0</td>\n",
       "      <td>78,1</td>\n",
       "      <td>3,22</td>\n",
       "      <td>0,25</td>\n",
       "      <td>96,53</td>\n",
       "      <td>1</td>\n",
       "      <td>17,14</td>\n",
       "      <td>4,61</td>\n",
       "      <td>0,101</td>\n",
       "      <td>0,6</td>\n",
       "      <td>0,298</td>\n",
       "    </tr>\n",
       "    <tr>\n",
       "      <th>3</th>\n",
       "      <td>American Samoa</td>\n",
       "      <td>OCEANIA</td>\n",
       "      <td>57794</td>\n",
       "      <td>199</td>\n",
       "      <td>290,4</td>\n",
       "      <td>58,29</td>\n",
       "      <td>-20,71</td>\n",
       "      <td>9,27</td>\n",
       "      <td>8000.0</td>\n",
       "      <td>97,0</td>\n",
       "      <td>259,5</td>\n",
       "      <td>10</td>\n",
       "      <td>15</td>\n",
       "      <td>75</td>\n",
       "      <td>2</td>\n",
       "      <td>22,46</td>\n",
       "      <td>3,27</td>\n",
       "      <td>NaN</td>\n",
       "      <td>NaN</td>\n",
       "      <td>NaN</td>\n",
       "    </tr>\n",
       "    <tr>\n",
       "      <th>4</th>\n",
       "      <td>Andorra</td>\n",
       "      <td>WESTERN EUROPE</td>\n",
       "      <td>71201</td>\n",
       "      <td>468</td>\n",
       "      <td>152,1</td>\n",
       "      <td>0,00</td>\n",
       "      <td>6,6</td>\n",
       "      <td>4,05</td>\n",
       "      <td>19000.0</td>\n",
       "      <td>100,0</td>\n",
       "      <td>497,2</td>\n",
       "      <td>2,22</td>\n",
       "      <td>0</td>\n",
       "      <td>97,78</td>\n",
       "      <td>3</td>\n",
       "      <td>8,71</td>\n",
       "      <td>6,25</td>\n",
       "      <td>NaN</td>\n",
       "      <td>NaN</td>\n",
       "      <td>NaN</td>\n",
       "    </tr>\n",
       "  </tbody>\n",
       "</table>\n",
       "</div>"
      ],
      "text/plain": [
       "           Country                               Region  Population  \\\n",
       "0     Afghanistan         ASIA (EX. NEAR EAST)             31056997   \n",
       "1         Albania   EASTERN EUROPE                          3581655   \n",
       "2         Algeria   NORTHERN AFRICA                        32930091   \n",
       "3  American Samoa   OCEANIA                                   57794   \n",
       "4         Andorra   WESTERN EUROPE                            71201   \n",
       "\n",
       "   Area (sq. mi.) Pop. Density (per sq. mi.) Coastline (coast/area ratio)  \\\n",
       "0          647500                       48,0                         0,00   \n",
       "1           28748                      124,6                         1,26   \n",
       "2         2381740                       13,8                         0,04   \n",
       "3             199                      290,4                        58,29   \n",
       "4             468                      152,1                         0,00   \n",
       "\n",
       "  Net migration Infant mortality (per 1000 births)  GDP ($ per capita)  \\\n",
       "0         23,06                             163,07               700.0   \n",
       "1         -4,93                              21,52              4500.0   \n",
       "2         -0,39                                 31              6000.0   \n",
       "3        -20,71                               9,27              8000.0   \n",
       "4           6,6                               4,05             19000.0   \n",
       "\n",
       "  Literacy (%) Phones (per 1000) Arable (%) Crops (%) Other (%) Climate  \\\n",
       "0         36,0               3,2      12,13      0,22     87,65       1   \n",
       "1         86,5              71,2      21,09      4,42     74,49       3   \n",
       "2         70,0              78,1       3,22      0,25     96,53       1   \n",
       "3         97,0             259,5         10        15        75       2   \n",
       "4        100,0             497,2       2,22         0     97,78       3   \n",
       "\n",
       "  Birthrate Deathrate Agriculture Industry Service  \n",
       "0      46,6     20,34        0,38     0,24    0,38  \n",
       "1     15,11      5,22       0,232    0,188   0,579  \n",
       "2     17,14      4,61       0,101      0,6   0,298  \n",
       "3     22,46      3,27         NaN      NaN     NaN  \n",
       "4      8,71      6,25         NaN      NaN     NaN  "
      ]
     },
     "execution_count": 3,
     "metadata": {},
     "output_type": "execute_result"
    }
   ],
   "source": [
    "data.head()"
   ]
  },
  {
   "cell_type": "code",
   "execution_count": 4,
   "metadata": {},
   "outputs": [
    {
     "data": {
      "text/plain": [
       "Index(['Country', 'Region', 'Population', 'Area (sq. mi.)',\n",
       "       'Pop. Density (per sq. mi.)', 'Coastline (coast/area ratio)',\n",
       "       'Net migration', 'Infant mortality (per 1000 births)',\n",
       "       'GDP ($ per capita)', 'Literacy (%)', 'Phones (per 1000)', 'Arable (%)',\n",
       "       'Crops (%)', 'Other (%)', 'Climate', 'Birthrate', 'Deathrate',\n",
       "       'Agriculture', 'Industry', 'Service'],\n",
       "      dtype='object')"
      ]
     },
     "execution_count": 4,
     "metadata": {},
     "output_type": "execute_result"
    }
   ],
   "source": [
    "data.columns"
   ]
  },
  {
   "cell_type": "code",
   "execution_count": 5,
   "metadata": {},
   "outputs": [
    {
     "name": "stdout",
     "output_type": "stream",
     "text": [
      "<class 'pandas.core.frame.DataFrame'>\n",
      "RangeIndex: 227 entries, 0 to 226\n",
      "Data columns (total 20 columns):\n",
      "Country                               227 non-null object\n",
      "Region                                227 non-null object\n",
      "Population                            227 non-null int64\n",
      "Area (sq. mi.)                        227 non-null int64\n",
      "Pop. Density (per sq. mi.)            227 non-null object\n",
      "Coastline (coast/area ratio)          227 non-null object\n",
      "Net migration                         224 non-null object\n",
      "Infant mortality (per 1000 births)    224 non-null object\n",
      "GDP ($ per capita)                    226 non-null float64\n",
      "Literacy (%)                          209 non-null object\n",
      "Phones (per 1000)                     223 non-null object\n",
      "Arable (%)                            225 non-null object\n",
      "Crops (%)                             225 non-null object\n",
      "Other (%)                             225 non-null object\n",
      "Climate                               205 non-null object\n",
      "Birthrate                             224 non-null object\n",
      "Deathrate                             223 non-null object\n",
      "Agriculture                           212 non-null object\n",
      "Industry                              211 non-null object\n",
      "Service                               212 non-null object\n",
      "dtypes: float64(1), int64(2), object(17)\n",
      "memory usage: 35.5+ KB\n"
     ]
    }
   ],
   "source": [
    "data.info()"
   ]
  },
  {
   "cell_type": "code",
   "execution_count": 6,
   "metadata": {},
   "outputs": [
    {
     "data": {
      "text/plain": [
       "(227, 20)"
      ]
     },
     "execution_count": 6,
     "metadata": {},
     "output_type": "execute_result"
    }
   ],
   "source": [
    "data.shape"
   ]
  },
  {
   "cell_type": "code",
   "execution_count": 7,
   "metadata": {},
   "outputs": [],
   "source": [
    "data['Pop. Density (per sq. mi.)']=data['Pop. Density (per sq. mi.)'].str.replace(',','.')\n",
    "data['Coastline (coast/area ratio)']=data['Coastline (coast/area ratio)'].str.replace(',','.')\n",
    "data['Net migration']=data['Net migration'].str.replace(',','.')\n",
    "data['Infant mortality (per 1000 births)']=data['Infant mortality (per 1000 births)'].str.replace(',','.')\n",
    "data['Literacy (%)']=data['Literacy (%)'].str.replace(',','.')\n",
    "data['Phones (per 1000)']=data['Phones (per 1000)'].str.replace(',','.')\n",
    "data['Arable (%)']=data['Arable (%)'].str.replace(',','.')\n",
    "data['Crops (%)']=data['Crops (%)'].str.replace(',','.')\n",
    "data['Other (%)']=data['Other (%)'].str.replace(',','.')\n",
    "data['Birthrate']=data['Birthrate'].str.replace(',','.')\n",
    "data['Climate']=data['Climate'].str.replace(',','.')\n",
    "data['Deathrate']=data['Deathrate'].str.replace(',','.')\n",
    "data['Agriculture']=data['Agriculture'].str.replace(',','.')\n",
    "data['Industry']=data['Industry'].str.replace(',','.')\n",
    "data['Service']=data['Service'].str.replace(',','.')"
   ]
  },
  {
   "cell_type": "code",
   "execution_count": 8,
   "metadata": {
    "scrolled": true
   },
   "outputs": [
    {
     "data": {
      "text/html": [
       "<div>\n",
       "<style scoped>\n",
       "    .dataframe tbody tr th:only-of-type {\n",
       "        vertical-align: middle;\n",
       "    }\n",
       "\n",
       "    .dataframe tbody tr th {\n",
       "        vertical-align: top;\n",
       "    }\n",
       "\n",
       "    .dataframe thead th {\n",
       "        text-align: right;\n",
       "    }\n",
       "</style>\n",
       "<table border=\"1\" class=\"dataframe\">\n",
       "  <thead>\n",
       "    <tr style=\"text-align: right;\">\n",
       "      <th></th>\n",
       "      <th>Country</th>\n",
       "      <th>Region</th>\n",
       "      <th>Population</th>\n",
       "      <th>Area (sq. mi.)</th>\n",
       "      <th>Pop. Density (per sq. mi.)</th>\n",
       "      <th>Coastline (coast/area ratio)</th>\n",
       "      <th>Net migration</th>\n",
       "      <th>Infant mortality (per 1000 births)</th>\n",
       "      <th>GDP ($ per capita)</th>\n",
       "      <th>Literacy (%)</th>\n",
       "      <th>Phones (per 1000)</th>\n",
       "      <th>Arable (%)</th>\n",
       "      <th>Crops (%)</th>\n",
       "      <th>Other (%)</th>\n",
       "      <th>Climate</th>\n",
       "      <th>Birthrate</th>\n",
       "      <th>Deathrate</th>\n",
       "      <th>Agriculture</th>\n",
       "      <th>Industry</th>\n",
       "      <th>Service</th>\n",
       "    </tr>\n",
       "  </thead>\n",
       "  <tbody>\n",
       "    <tr>\n",
       "      <th>0</th>\n",
       "      <td>Afghanistan</td>\n",
       "      <td>ASIA (EX. NEAR EAST)</td>\n",
       "      <td>31056997</td>\n",
       "      <td>647500</td>\n",
       "      <td>48.0</td>\n",
       "      <td>0.00</td>\n",
       "      <td>23.06</td>\n",
       "      <td>163.07</td>\n",
       "      <td>700.0</td>\n",
       "      <td>36.0</td>\n",
       "      <td>3.2</td>\n",
       "      <td>12.13</td>\n",
       "      <td>0.22</td>\n",
       "      <td>87.65</td>\n",
       "      <td>1</td>\n",
       "      <td>46.6</td>\n",
       "      <td>20.34</td>\n",
       "      <td>0.38</td>\n",
       "      <td>0.24</td>\n",
       "      <td>0.38</td>\n",
       "    </tr>\n",
       "    <tr>\n",
       "      <th>1</th>\n",
       "      <td>Albania</td>\n",
       "      <td>EASTERN EUROPE</td>\n",
       "      <td>3581655</td>\n",
       "      <td>28748</td>\n",
       "      <td>124.6</td>\n",
       "      <td>1.26</td>\n",
       "      <td>-4.93</td>\n",
       "      <td>21.52</td>\n",
       "      <td>4500.0</td>\n",
       "      <td>86.5</td>\n",
       "      <td>71.2</td>\n",
       "      <td>21.09</td>\n",
       "      <td>4.42</td>\n",
       "      <td>74.49</td>\n",
       "      <td>3</td>\n",
       "      <td>15.11</td>\n",
       "      <td>5.22</td>\n",
       "      <td>0.232</td>\n",
       "      <td>0.188</td>\n",
       "      <td>0.579</td>\n",
       "    </tr>\n",
       "    <tr>\n",
       "      <th>2</th>\n",
       "      <td>Algeria</td>\n",
       "      <td>NORTHERN AFRICA</td>\n",
       "      <td>32930091</td>\n",
       "      <td>2381740</td>\n",
       "      <td>13.8</td>\n",
       "      <td>0.04</td>\n",
       "      <td>-0.39</td>\n",
       "      <td>31</td>\n",
       "      <td>6000.0</td>\n",
       "      <td>70.0</td>\n",
       "      <td>78.1</td>\n",
       "      <td>3.22</td>\n",
       "      <td>0.25</td>\n",
       "      <td>96.53</td>\n",
       "      <td>1</td>\n",
       "      <td>17.14</td>\n",
       "      <td>4.61</td>\n",
       "      <td>0.101</td>\n",
       "      <td>0.6</td>\n",
       "      <td>0.298</td>\n",
       "    </tr>\n",
       "    <tr>\n",
       "      <th>3</th>\n",
       "      <td>American Samoa</td>\n",
       "      <td>OCEANIA</td>\n",
       "      <td>57794</td>\n",
       "      <td>199</td>\n",
       "      <td>290.4</td>\n",
       "      <td>58.29</td>\n",
       "      <td>-20.71</td>\n",
       "      <td>9.27</td>\n",
       "      <td>8000.0</td>\n",
       "      <td>97.0</td>\n",
       "      <td>259.5</td>\n",
       "      <td>10</td>\n",
       "      <td>15</td>\n",
       "      <td>75</td>\n",
       "      <td>2</td>\n",
       "      <td>22.46</td>\n",
       "      <td>3.27</td>\n",
       "      <td>NaN</td>\n",
       "      <td>NaN</td>\n",
       "      <td>NaN</td>\n",
       "    </tr>\n",
       "    <tr>\n",
       "      <th>4</th>\n",
       "      <td>Andorra</td>\n",
       "      <td>WESTERN EUROPE</td>\n",
       "      <td>71201</td>\n",
       "      <td>468</td>\n",
       "      <td>152.1</td>\n",
       "      <td>0.00</td>\n",
       "      <td>6.6</td>\n",
       "      <td>4.05</td>\n",
       "      <td>19000.0</td>\n",
       "      <td>100.0</td>\n",
       "      <td>497.2</td>\n",
       "      <td>2.22</td>\n",
       "      <td>0</td>\n",
       "      <td>97.78</td>\n",
       "      <td>3</td>\n",
       "      <td>8.71</td>\n",
       "      <td>6.25</td>\n",
       "      <td>NaN</td>\n",
       "      <td>NaN</td>\n",
       "      <td>NaN</td>\n",
       "    </tr>\n",
       "    <tr>\n",
       "      <th>5</th>\n",
       "      <td>Angola</td>\n",
       "      <td>SUB-SAHARAN AFRICA</td>\n",
       "      <td>12127071</td>\n",
       "      <td>1246700</td>\n",
       "      <td>9.7</td>\n",
       "      <td>0.13</td>\n",
       "      <td>0</td>\n",
       "      <td>191.19</td>\n",
       "      <td>1900.0</td>\n",
       "      <td>42.0</td>\n",
       "      <td>7.8</td>\n",
       "      <td>2.41</td>\n",
       "      <td>0.24</td>\n",
       "      <td>97.35</td>\n",
       "      <td>NaN</td>\n",
       "      <td>45.11</td>\n",
       "      <td>24.2</td>\n",
       "      <td>0.096</td>\n",
       "      <td>0.658</td>\n",
       "      <td>0.246</td>\n",
       "    </tr>\n",
       "    <tr>\n",
       "      <th>6</th>\n",
       "      <td>Anguilla</td>\n",
       "      <td>LATIN AMER. &amp; CARIB</td>\n",
       "      <td>13477</td>\n",
       "      <td>102</td>\n",
       "      <td>132.1</td>\n",
       "      <td>59.80</td>\n",
       "      <td>10.76</td>\n",
       "      <td>21.03</td>\n",
       "      <td>8600.0</td>\n",
       "      <td>95.0</td>\n",
       "      <td>460.0</td>\n",
       "      <td>0</td>\n",
       "      <td>0</td>\n",
       "      <td>100</td>\n",
       "      <td>2</td>\n",
       "      <td>14.17</td>\n",
       "      <td>5.34</td>\n",
       "      <td>0.04</td>\n",
       "      <td>0.18</td>\n",
       "      <td>0.78</td>\n",
       "    </tr>\n",
       "    <tr>\n",
       "      <th>7</th>\n",
       "      <td>Antigua &amp; Barbuda</td>\n",
       "      <td>LATIN AMER. &amp; CARIB</td>\n",
       "      <td>69108</td>\n",
       "      <td>443</td>\n",
       "      <td>156.0</td>\n",
       "      <td>34.54</td>\n",
       "      <td>-6.15</td>\n",
       "      <td>19.46</td>\n",
       "      <td>11000.0</td>\n",
       "      <td>89.0</td>\n",
       "      <td>549.9</td>\n",
       "      <td>18.18</td>\n",
       "      <td>4.55</td>\n",
       "      <td>77.27</td>\n",
       "      <td>2</td>\n",
       "      <td>16.93</td>\n",
       "      <td>5.37</td>\n",
       "      <td>0.038</td>\n",
       "      <td>0.22</td>\n",
       "      <td>0.743</td>\n",
       "    </tr>\n",
       "    <tr>\n",
       "      <th>8</th>\n",
       "      <td>Argentina</td>\n",
       "      <td>LATIN AMER. &amp; CARIB</td>\n",
       "      <td>39921833</td>\n",
       "      <td>2766890</td>\n",
       "      <td>14.4</td>\n",
       "      <td>0.18</td>\n",
       "      <td>0.61</td>\n",
       "      <td>15.18</td>\n",
       "      <td>11200.0</td>\n",
       "      <td>97.1</td>\n",
       "      <td>220.4</td>\n",
       "      <td>12.31</td>\n",
       "      <td>0.48</td>\n",
       "      <td>87.21</td>\n",
       "      <td>3</td>\n",
       "      <td>16.73</td>\n",
       "      <td>7.55</td>\n",
       "      <td>0.095</td>\n",
       "      <td>0.358</td>\n",
       "      <td>0.547</td>\n",
       "    </tr>\n",
       "    <tr>\n",
       "      <th>9</th>\n",
       "      <td>Armenia</td>\n",
       "      <td>C.W. OF IND. STATES</td>\n",
       "      <td>2976372</td>\n",
       "      <td>29800</td>\n",
       "      <td>99.9</td>\n",
       "      <td>0.00</td>\n",
       "      <td>-6.47</td>\n",
       "      <td>23.28</td>\n",
       "      <td>3500.0</td>\n",
       "      <td>98.6</td>\n",
       "      <td>195.7</td>\n",
       "      <td>17.55</td>\n",
       "      <td>2.3</td>\n",
       "      <td>80.15</td>\n",
       "      <td>4</td>\n",
       "      <td>12.07</td>\n",
       "      <td>8.23</td>\n",
       "      <td>0.239</td>\n",
       "      <td>0.343</td>\n",
       "      <td>0.418</td>\n",
       "    </tr>\n",
       "  </tbody>\n",
       "</table>\n",
       "</div>"
      ],
      "text/plain": [
       "              Country                               Region  Population  \\\n",
       "0        Afghanistan         ASIA (EX. NEAR EAST)             31056997   \n",
       "1            Albania   EASTERN EUROPE                          3581655   \n",
       "2            Algeria   NORTHERN AFRICA                        32930091   \n",
       "3     American Samoa   OCEANIA                                   57794   \n",
       "4            Andorra   WESTERN EUROPE                            71201   \n",
       "5             Angola   SUB-SAHARAN AFRICA                     12127071   \n",
       "6           Anguilla               LATIN AMER. & CARIB           13477   \n",
       "7  Antigua & Barbuda               LATIN AMER. & CARIB           69108   \n",
       "8          Argentina               LATIN AMER. & CARIB        39921833   \n",
       "9            Armenia                  C.W. OF IND. STATES      2976372   \n",
       "\n",
       "   Area (sq. mi.) Pop. Density (per sq. mi.) Coastline (coast/area ratio)  \\\n",
       "0          647500                       48.0                         0.00   \n",
       "1           28748                      124.6                         1.26   \n",
       "2         2381740                       13.8                         0.04   \n",
       "3             199                      290.4                        58.29   \n",
       "4             468                      152.1                         0.00   \n",
       "5         1246700                        9.7                         0.13   \n",
       "6             102                      132.1                        59.80   \n",
       "7             443                      156.0                        34.54   \n",
       "8         2766890                       14.4                         0.18   \n",
       "9           29800                       99.9                         0.00   \n",
       "\n",
       "  Net migration Infant mortality (per 1000 births)  GDP ($ per capita)  \\\n",
       "0         23.06                             163.07               700.0   \n",
       "1         -4.93                              21.52              4500.0   \n",
       "2         -0.39                                 31              6000.0   \n",
       "3        -20.71                               9.27              8000.0   \n",
       "4           6.6                               4.05             19000.0   \n",
       "5             0                             191.19              1900.0   \n",
       "6         10.76                              21.03              8600.0   \n",
       "7         -6.15                              19.46             11000.0   \n",
       "8          0.61                              15.18             11200.0   \n",
       "9         -6.47                              23.28              3500.0   \n",
       "\n",
       "  Literacy (%) Phones (per 1000) Arable (%) Crops (%) Other (%) Climate  \\\n",
       "0         36.0               3.2      12.13      0.22     87.65       1   \n",
       "1         86.5              71.2      21.09      4.42     74.49       3   \n",
       "2         70.0              78.1       3.22      0.25     96.53       1   \n",
       "3         97.0             259.5         10        15        75       2   \n",
       "4        100.0             497.2       2.22         0     97.78       3   \n",
       "5         42.0               7.8       2.41      0.24     97.35     NaN   \n",
       "6         95.0             460.0          0         0       100       2   \n",
       "7         89.0             549.9      18.18      4.55     77.27       2   \n",
       "8         97.1             220.4      12.31      0.48     87.21       3   \n",
       "9         98.6             195.7      17.55       2.3     80.15       4   \n",
       "\n",
       "  Birthrate Deathrate Agriculture Industry Service  \n",
       "0      46.6     20.34        0.38     0.24    0.38  \n",
       "1     15.11      5.22       0.232    0.188   0.579  \n",
       "2     17.14      4.61       0.101      0.6   0.298  \n",
       "3     22.46      3.27         NaN      NaN     NaN  \n",
       "4      8.71      6.25         NaN      NaN     NaN  \n",
       "5     45.11      24.2       0.096    0.658   0.246  \n",
       "6     14.17      5.34        0.04     0.18    0.78  \n",
       "7     16.93      5.37       0.038     0.22   0.743  \n",
       "8     16.73      7.55       0.095    0.358   0.547  \n",
       "9     12.07      8.23       0.239    0.343   0.418  "
      ]
     },
     "execution_count": 8,
     "metadata": {},
     "output_type": "execute_result"
    }
   ],
   "source": [
    "data.head(10)"
   ]
  },
  {
   "cell_type": "code",
   "execution_count": 9,
   "metadata": {},
   "outputs": [
    {
     "name": "stdout",
     "output_type": "stream",
     "text": [
      "<class 'pandas.core.frame.DataFrame'>\n",
      "RangeIndex: 227 entries, 0 to 226\n",
      "Data columns (total 20 columns):\n",
      "Country                               227 non-null object\n",
      "Region                                227 non-null object\n",
      "Population                            227 non-null int64\n",
      "Area (sq. mi.)                        227 non-null int64\n",
      "Pop. Density (per sq. mi.)            227 non-null object\n",
      "Coastline (coast/area ratio)          227 non-null object\n",
      "Net migration                         224 non-null object\n",
      "Infant mortality (per 1000 births)    224 non-null object\n",
      "GDP ($ per capita)                    226 non-null float64\n",
      "Literacy (%)                          209 non-null object\n",
      "Phones (per 1000)                     223 non-null object\n",
      "Arable (%)                            225 non-null object\n",
      "Crops (%)                             225 non-null object\n",
      "Other (%)                             225 non-null object\n",
      "Climate                               205 non-null object\n",
      "Birthrate                             224 non-null object\n",
      "Deathrate                             223 non-null object\n",
      "Agriculture                           212 non-null object\n",
      "Industry                              211 non-null object\n",
      "Service                               212 non-null object\n",
      "dtypes: float64(1), int64(2), object(17)\n",
      "memory usage: 35.5+ KB\n"
     ]
    }
   ],
   "source": [
    "data.info()"
   ]
  },
  {
   "cell_type": "code",
   "execution_count": 10,
   "metadata": {},
   "outputs": [],
   "source": [
    "data['Pop. Density (per sq. mi.)']=data['Pop. Density (per sq. mi.)'].astype('float64')\n",
    "data['Coastline (coast/area ratio)']=data['Coastline (coast/area ratio)'].astype('float64')\n",
    "data['Net migration']=data['Net migration'].astype('float64')\n",
    "data['Infant mortality (per 1000 births)']=data['Infant mortality (per 1000 births)'].astype('float64')\n",
    "data['Literacy (%)']=data['Literacy (%)'].astype('float64')\n",
    "data['Phones (per 1000)']=data['Phones (per 1000)'].astype('float64')\n",
    "data['Arable (%)']=data['Arable (%)'].astype('float64')\n",
    "data['Crops (%)']=data['Crops (%)'].astype('float64')\n",
    "data['Other (%)']=data['Other (%)'].astype('float64')\n",
    "data['Climate']=data['Climate'].astype('float64')\n",
    "data['Birthrate']=data['Birthrate'].astype('float64')\n",
    "data['Deathrate']=data['Deathrate'].astype('float64')\n",
    "data['Agriculture']=data['Agriculture'].astype('float64')\n",
    "data['Industry']=data['Industry'].astype('float64')\n",
    "data['Service']=data['Service'].astype('float64')"
   ]
  },
  {
   "cell_type": "code",
   "execution_count": 11,
   "metadata": {},
   "outputs": [],
   "source": [
    "data['Net migration'].fillna(data['Net migration'].median(), inplace=True)\n",
    "data['Infant mortality (per 1000 births)'].fillna(data['Infant mortality (per 1000 births)'].median(), inplace=True)\n",
    "data['Literacy (%)'].fillna(data['Literacy (%)'].mean(), inplace=True)\n",
    "data['Phones (per 1000)'].fillna(data['Phones (per 1000)'].median(), inplace=True)\n",
    "data['Arable (%)'].fillna(data['Arable (%)'].median(), inplace=True)\n",
    "data['Crops (%)'].fillna(data['Crops (%)'].median(), inplace=True)\n",
    "data['Other (%)'].fillna(data['Other (%)'].mean(), inplace=True)\n",
    "data['Climate'].fillna(data['Climate'].mean(), inplace=True)\n",
    "data['Birthrate'].fillna(data['Birthrate'].median(), inplace=True)\n",
    "data['Deathrate'].fillna(data['Deathrate'].median(), inplace=True)\n",
    "data['Agriculture'].fillna(data['Agriculture'].mean(), inplace=True)\n",
    "data['Industry'].fillna(data['Industry'].mean(), inplace=True)\n",
    "data['Service'].fillna(data['Service'].mean(), inplace=True)\n",
    "data['GDP ($ per capita)'].fillna(0.0,inplace=True)"
   ]
  },
  {
   "cell_type": "code",
   "execution_count": 12,
   "metadata": {},
   "outputs": [
    {
     "name": "stdout",
     "output_type": "stream",
     "text": [
      "<class 'pandas.core.frame.DataFrame'>\n",
      "RangeIndex: 227 entries, 0 to 226\n",
      "Data columns (total 20 columns):\n",
      "Country                               227 non-null object\n",
      "Region                                227 non-null object\n",
      "Population                            227 non-null int64\n",
      "Area (sq. mi.)                        227 non-null int64\n",
      "Pop. Density (per sq. mi.)            227 non-null float64\n",
      "Coastline (coast/area ratio)          227 non-null float64\n",
      "Net migration                         227 non-null float64\n",
      "Infant mortality (per 1000 births)    227 non-null float64\n",
      "GDP ($ per capita)                    227 non-null float64\n",
      "Literacy (%)                          227 non-null float64\n",
      "Phones (per 1000)                     227 non-null float64\n",
      "Arable (%)                            227 non-null float64\n",
      "Crops (%)                             227 non-null float64\n",
      "Other (%)                             227 non-null float64\n",
      "Climate                               227 non-null float64\n",
      "Birthrate                             227 non-null float64\n",
      "Deathrate                             227 non-null float64\n",
      "Agriculture                           227 non-null float64\n",
      "Industry                              227 non-null float64\n",
      "Service                               227 non-null float64\n",
      "dtypes: float64(16), int64(2), object(2)\n",
      "memory usage: 35.5+ KB\n"
     ]
    }
   ],
   "source": [
    "data.info()"
   ]
  },
  {
   "cell_type": "code",
   "execution_count": 13,
   "metadata": {
    "scrolled": true
   },
   "outputs": [
    {
     "data": {
      "text/plain": [
       "Country\n",
       "China                    1313973713\n",
       "India                    1095351995\n",
       "United States             298444215\n",
       "Indonesia                 245452739\n",
       "Brazil                    188078227\n",
       "Pakistan                  165803560\n",
       "Bangladesh                147365352\n",
       "Russia                    142893540\n",
       "Nigeria                   131859731\n",
       "Japan                     127463611\n",
       "Mexico                    107449525\n",
       "Philippines                89468677\n",
       "Vietnam                    84402966\n",
       "Germany                    82422299\n",
       "Egypt                      78887007\n",
       "Ethiopia                   74777981\n",
       "Turkey                     70413958\n",
       "Iran                       68688433\n",
       "Thailand                   64631595\n",
       "Congo, Dem. Rep.           62660551\n",
       "France                     60876136\n",
       "United Kingdom             60609153\n",
       "Italy                      58133509\n",
       "Korea, South               48846823\n",
       "Burma                      47382633\n",
       "Ukraine                    46710816\n",
       "South Africa               44187637\n",
       "Colombia                   43593035\n",
       "Sudan                      41236378\n",
       "Spain                      40397842\n",
       "                            ...    \n",
       "N. Mariana Islands            82459\n",
       "Seychelles                    81541\n",
       "Isle of Man                   75441\n",
       "Aruba                         71891\n",
       "Andorra                       71201\n",
       "Antigua & Barbuda             69108\n",
       "Dominica                      68910\n",
       "Bermuda                       65773\n",
       "Guernsey                      65409\n",
       "Marshall Islands              60422\n",
       "American Samoa                57794\n",
       "Greenland                     56361\n",
       "Faroe Islands                 47246\n",
       "Cayman Islands                45436\n",
       "Saint Kitts & Nevis           39129\n",
       "Liechtenstein                 33987\n",
       "Monaco                        32543\n",
       "San Marino                    29251\n",
       "Gibraltar                     27928\n",
       "British Virgin Is.            23098\n",
       "Cook Islands                  21388\n",
       "Turks & Caicos Is             21152\n",
       "Palau                         20579\n",
       "Wallis and Futuna             16025\n",
       "Anguilla                      13477\n",
       "Nauru                         13287\n",
       "Tuvalu                        11810\n",
       "Montserrat                     9439\n",
       "Saint Helena                   7502\n",
       "St Pierre & Miquelon           7026\n",
       "Name: Population, Length: 227, dtype: int64"
      ]
     },
     "execution_count": 13,
     "metadata": {},
     "output_type": "execute_result"
    }
   ],
   "source": [
    "data['Population'].groupby(data['Country']).max().sort_values(ascending=False)"
   ]
  },
  {
   "cell_type": "code",
   "execution_count": 14,
   "metadata": {},
   "outputs": [
    {
     "data": {
      "text/plain": [
       "<matplotlib.axes._subplots.AxesSubplot at 0x2aa1b7226a0>"
      ]
     },
     "execution_count": 14,
     "metadata": {},
     "output_type": "execute_result"
    },
    {
     "data": {
      "image/png": "[encoded data removed]",
      "text/plain": [
       "<Figure size 432x288 with 1 Axes>"
      ]
     },
     "metadata": {
      "needs_background": "light"
     },
     "output_type": "display_data"
    }
   ],
   "source": [
    "data['Population'].groupby(data['Country']).max().sort_values(ascending=False).head(10).plot(kind='bar')"
   ]
  },
  {
   "cell_type": "code",
   "execution_count": 15,
   "metadata": {
    "scrolled": true
   },
   "outputs": [
    {
     "data": {
      "text/plain": [
       "Country\n",
       "Russia                               17075200\n",
       "Canada                                9984670\n",
       "United States                         9631420\n",
       "China                                 9596960\n",
       "Brazil                                8511965\n",
       "Australia                             7686850\n",
       "India                                 3287590\n",
       "Argentina                             2766890\n",
       "Kazakhstan                            2717300\n",
       "Sudan                                 2505810\n",
       "Algeria                               2381740\n",
       "Congo, Dem. Rep.                      2345410\n",
       "Greenland                             2166086\n",
       "Mexico                                1972550\n",
       "Saudi Arabia                          1960582\n",
       "Indonesia                             1919440\n",
       "Libya                                 1759540\n",
       "Iran                                  1648000\n",
       "Mongolia                              1564116\n",
       "Peru                                  1285220\n",
       "Chad                                  1284000\n",
       "Niger                                 1267000\n",
       "Angola                                1246700\n",
       "Mali                                  1240000\n",
       "South Africa                          1219912\n",
       "Colombia                              1138910\n",
       "Ethiopia                              1127127\n",
       "Bolivia                               1098580\n",
       "Mauritania                            1030700\n",
       "Egypt                                 1001450\n",
       "                                       ...   \n",
       "Antigua & Barbuda                         443\n",
       "Barbados                                  431\n",
       "Turks & Caicos Is                         430\n",
       "Saint Helena                              413\n",
       "Saint Vincent and the Grenadines          389\n",
       "Mayotte                                   374\n",
       "Gaza Strip                                360\n",
       "Grenada                                   344\n",
       "Malta                                     316\n",
       "Maldives                                  300\n",
       "Wallis and Futuna                         274\n",
       "Cayman Islands                            262\n",
       "Saint Kitts & Nevis                       261\n",
       "St Pierre & Miquelon                      242\n",
       "Cook Islands                              240\n",
       "American Samoa                            199\n",
       "Aruba                                     193\n",
       "Liechtenstein                             160\n",
       "British Virgin Is.                        153\n",
       "Jersey                                    116\n",
       "Anguilla                                  102\n",
       "Montserrat                                102\n",
       "Guernsey                                   78\n",
       "San Marino                                 61\n",
       "Bermuda                                    53\n",
       "Macau                                      28\n",
       "Tuvalu                                     26\n",
       "Nauru                                      21\n",
       "Gibraltar                                   7\n",
       "Monaco                                      2\n",
       "Name: Area (sq. mi.), Length: 227, dtype: int64"
      ]
     },
     "execution_count": 15,
     "metadata": {},
     "output_type": "execute_result"
    }
   ],
   "source": [
    "data['Area (sq. mi.)'].groupby(data['Country']).max().sort_values(ascending=False)"
   ]
  },
  {
   "cell_type": "code",
   "execution_count": 16,
   "metadata": {},
   "outputs": [
    {
     "data": {
      "text/plain": [
       "<matplotlib.axes._subplots.AxesSubplot at 0x2aa1bad9cc0>"
      ]
     },
     "execution_count": 16,
     "metadata": {},
     "output_type": "execute_result"
    },
    {
     "data": {
      "image/png": "[encoded data removed]",
      "text/plain": [
       "<Figure size 432x288 with 1 Axes>"
      ]
     },
     "metadata": {
      "needs_background": "light"
     },
     "output_type": "display_data"
    }
   ],
   "source": [
    "data['Area (sq. mi.)'].groupby(data['Country']).max().sort_values(ascending=False).head(10).plot(kind='bar')"
   ]
  },
  {
   "cell_type": "code",
   "execution_count": 17,
   "metadata": {},
   "outputs": [
    {
     "data": {
      "text/plain": [
       "<matplotlib.axes._subplots.AxesSubplot at 0x2aa1bb5fef0>"
      ]
     },
     "execution_count": 17,
     "metadata": {},
     "output_type": "execute_result"
    },
    {
     "data": {
      "image/png": "[encoded data removed]",
      "text/plain": [
       "<Figure size 432x288 with 1 Axes>"
      ]
     },
     "metadata": {
      "needs_background": "light"
     },
     "output_type": "display_data"
    }
   ],
   "source": [
    "data['Pop. Density (per sq. mi.)'].groupby(data['Country']).max().sort_values(ascending=False).head(10).plot(kind='bar')"
   ]
  },
  {
   "cell_type": "code",
   "execution_count": 18,
   "metadata": {},
   "outputs": [
    {
     "data": {
      "text/plain": [
       "<matplotlib.axes._subplots.AxesSubplot at 0x2aa1bbab080>"
      ]
     },
     "execution_count": 18,
     "metadata": {},
     "output_type": "execute_result"
    },
    {
     "data": {
      "image/png": "[encoded data removed]",
      "text/plain": [
       "<Figure size 432x288 with 1 Axes>"
      ]
     },
     "metadata": {
      "needs_background": "light"
     },
     "output_type": "display_data"
    }
   ],
   "source": [
    "data['Coastline (coast/area ratio)'].groupby(data['Country']).max().sort_values(ascending=False).head(10).plot(kind='bar')"
   ]
  },
  {
   "cell_type": "code",
   "execution_count": 19,
   "metadata": {},
   "outputs": [
    {
     "data": {
      "text/plain": [
       "<matplotlib.axes._subplots.AxesSubplot at 0x2aa1bc57198>"
      ]
     },
     "execution_count": 19,
     "metadata": {},
     "output_type": "execute_result"
    },
    {
     "data": {
      "image/png": "[encoded data removed]",
      "text/plain": [
       "<Figure size 432x288 with 1 Axes>"
      ]
     },
     "metadata": {
      "needs_background": "light"
     },
     "output_type": "display_data"
    }
   ],
   "source": [
    "data['Net migration'].groupby(data['Country']).max().sort_values(ascending=False).head(10).plot(kind='bar')"
   ]
  },
  {
   "cell_type": "code",
   "execution_count": 20,
   "metadata": {},
   "outputs": [
    {
     "data": {
      "text/plain": [
       "<matplotlib.axes._subplots.AxesSubplot at 0x2aa1bcb66a0>"
      ]
     },
     "execution_count": 20,
     "metadata": {},
     "output_type": "execute_result"
    },
    {
     "data": {
      "image/png": "[encoded data removed]",
      "text/plain": [
       "<Figure size 432x288 with 1 Axes>"
      ]
     },
     "metadata": {
      "needs_background": "light"
     },
     "output_type": "display_data"
    }
   ],
   "source": [
    "data['Infant mortality (per 1000 births)'].groupby(data['Country']).max().sort_values(ascending=False).head(10).plot(kind='bar')"
   ]
  },
  {
   "cell_type": "code",
   "execution_count": 21,
   "metadata": {},
   "outputs": [
    {
     "data": {
      "text/plain": [
       "<matplotlib.axes._subplots.AxesSubplot at 0x2aa1bd2add8>"
      ]
     },
     "execution_count": 21,
     "metadata": {},
     "output_type": "execute_result"
    },
    {
     "data": {
      "image/png": "[encoded data removed]",
      "text/plain": [
       "<Figure size 432x288 with 1 Axes>"
      ]
     },
     "metadata": {
      "needs_background": "light"
     },
     "output_type": "display_data"
    }
   ],
   "source": [
    "data['GDP ($ per capita)'].groupby(data['Country']).max().sort_values(ascending=False).head(10).plot(kind='bar')"
   ]
  },
  {
   "cell_type": "code",
   "execution_count": 22,
   "metadata": {},
   "outputs": [
    {
     "data": {
      "text/plain": [
       "<matplotlib.axes._subplots.AxesSubplot at 0x2aa1bdaeb38>"
      ]
     },
     "execution_count": 22,
     "metadata": {},
     "output_type": "execute_result"
    },
    {
     "data": {
      "image/png": "[encoded data removed]",
      "text/plain": [
       "<Figure size 432x288 with 1 Axes>"
      ]
     },
     "metadata": {
      "needs_background": "light"
     },
     "output_type": "display_data"
    }
   ],
   "source": [
    "data['Literacy (%)'].groupby(data['Country']).max().sort_values(ascending=False).head(10).plot(kind='bar')"
   ]
  },
  {
   "cell_type": "code",
   "execution_count": 23,
   "metadata": {},
   "outputs": [
    {
     "data": {
      "text/plain": [
       "<matplotlib.axes._subplots.AxesSubplot at 0x2aa1be15b38>"
      ]
     },
     "execution_count": 23,
     "metadata": {},
     "output_type": "execute_result"
    },
    {
     "data": {
      "image/png": "[encoded data removed]",
      "text/plain": [
       "<Figure size 432x288 with 1 Axes>"
      ]
     },
     "metadata": {
      "needs_background": "light"
     },
     "output_type": "display_data"
    }
   ],
   "source": [
    "data['Phones (per 1000)'].groupby(data['Country']).max().sort_values(ascending=False).head(10).plot(kind='bar')"
   ]
  },
  {
   "cell_type": "code",
   "execution_count": 24,
   "metadata": {},
   "outputs": [
    {
     "data": {
      "text/plain": [
       "<matplotlib.axes._subplots.AxesSubplot at 0x2aa1ce5ab70>"
      ]
     },
     "execution_count": 24,
     "metadata": {},
     "output_type": "execute_result"
    },
    {
     "data": {
      "image/png": "[encoded data removed]",
      "text/plain": [
       "<Figure size 432x288 with 1 Axes>"
      ]
     },
     "metadata": {
      "needs_background": "light"
     },
     "output_type": "display_data"
    }
   ],
   "source": [
    "data['Arable (%)'].groupby(data['Country']).max().sort_values(ascending=False).head(10).plot(kind='bar')"
   ]
  },
  {
   "cell_type": "code",
   "execution_count": 25,
   "metadata": {},
   "outputs": [
    {
     "data": {
      "text/plain": [
       "<matplotlib.axes._subplots.AxesSubplot at 0x2aa1ced5f28>"
      ]
     },
     "execution_count": 25,
     "metadata": {},
     "output_type": "execute_result"
    },
    {
     "data": {
      "image/png": "[encoded data removed]",
      "text/plain": [
       "<Figure size 432x288 with 1 Axes>"
      ]
     },
     "metadata": {
      "needs_background": "light"
     },
     "output_type": "display_data"
    }
   ],
   "source": [
    "data['Crops (%)'].groupby(data['Country']).max().sort_values(ascending=False).head(10).plot(kind='bar')"
   ]
  },
  {
   "cell_type": "code",
   "execution_count": 26,
   "metadata": {},
   "outputs": [
    {
     "data": {
      "text/plain": [
       "<matplotlib.axes._subplots.AxesSubplot at 0x2aa1cf4ad68>"
      ]
     },
     "execution_count": 26,
     "metadata": {},
     "output_type": "execute_result"
    },
    {
     "data": {
      "image/png": "[encoded data removed]",
      "text/plain": [
       "<Figure size 432x288 with 1 Axes>"
      ]
     },
     "metadata": {
      "needs_background": "light"
     },
     "output_type": "display_data"
    }
   ],
   "source": [
    "data['Other (%)'].groupby(data['Country']).max().sort_values(ascending=False).head(10).plot(kind='bar')"
   ]
  },
  {
   "cell_type": "code",
   "execution_count": 27,
   "metadata": {},
   "outputs": [
    {
     "data": {
      "text/plain": [
       "<matplotlib.axes._subplots.AxesSubplot at 0x2aa1cfbd748>"
      ]
     },
     "execution_count": 27,
     "metadata": {},
     "output_type": "execute_result"
    },
    {
     "data": {
      "image/png": "[encoded data removed]",
      "text/plain": [
       "<Figure size 432x288 with 1 Axes>"
      ]
     },
     "metadata": {
      "needs_background": "light"
     },
     "output_type": "display_data"
    }
   ],
   "source": [
    "data['Climate'].groupby(data['Country']).max().sort_values(ascending=False).head(10).plot(kind='bar')"
   ]
  },
  {
   "cell_type": "code",
   "execution_count": 28,
   "metadata": {},
   "outputs": [
    {
     "data": {
      "text/plain": [
       "<matplotlib.axes._subplots.AxesSubplot at 0x2aa1d039828>"
      ]
     },
     "execution_count": 28,
     "metadata": {},
     "output_type": "execute_result"
    },
    {
     "data": {
      "image/png": "[encoded data removed]",
      "text/plain": [
       "<Figure size 432x288 with 1 Axes>"
      ]
     },
     "metadata": {
      "needs_background": "light"
     },
     "output_type": "display_data"
    }
   ],
   "source": [
    "data['Birthrate'].groupby(data['Country']).max().sort_values(ascending=False).head(10).plot(kind='bar')"
   ]
  },
  {
   "cell_type": "code",
   "execution_count": 29,
   "metadata": {},
   "outputs": [
    {
     "data": {
      "text/plain": [
       "<matplotlib.axes._subplots.AxesSubplot at 0x2aa1d0aaf98>"
      ]
     },
     "execution_count": 29,
     "metadata": {},
     "output_type": "execute_result"
    },
    {
     "data": {
      "image/png": "[encoded data removed]",
      "text/plain": [
       "<Figure size 432x288 with 1 Axes>"
      ]
     },
     "metadata": {
      "needs_background": "light"
     },
     "output_type": "display_data"
    }
   ],
   "source": [
    "data['Deathrate'].groupby(data['Country']).max().sort_values(ascending=True).head(10).plot(kind='bar')"
   ]
  },
  {
   "cell_type": "code",
   "execution_count": 30,
   "metadata": {},
   "outputs": [
    {
     "data": {
      "text/plain": [
       "<matplotlib.axes._subplots.AxesSubplot at 0x2aa1d133518>"
      ]
     },
     "execution_count": 30,
     "metadata": {},
     "output_type": "execute_result"
    },
    {
     "data": {
      "image/png": "[encoded data removed]",
      "text/plain": [
       "<Figure size 432x288 with 1 Axes>"
      ]
     },
     "metadata": {
      "needs_background": "light"
     },
     "output_type": "display_data"
    }
   ],
   "source": [
    "data['Agriculture'].groupby(data['Country']).max().sort_values(ascending=False).head(10).plot(kind='bar')"
   ]
  },
  {
   "cell_type": "code",
   "execution_count": 31,
   "metadata": {},
   "outputs": [
    {
     "data": {
      "text/plain": [
       "<matplotlib.axes._subplots.AxesSubplot at 0x2aa1d1ba2e8>"
      ]
     },
     "execution_count": 31,
     "metadata": {},
     "output_type": "execute_result"
    },
    {
     "data": {
      "image/png": "[encoded data removed]",
      "text/plain": [
       "<Figure size 432x288 with 1 Axes>"
      ]
     },
     "metadata": {
      "needs_background": "light"
     },
     "output_type": "display_data"
    }
   ],
   "source": [
    "data['Industry'].groupby(data['Country']).max().sort_values(ascending=False).head(10).plot(kind='bar')"
   ]
  },
  {
   "cell_type": "code",
   "execution_count": 32,
   "metadata": {},
   "outputs": [
    {
     "data": {
      "text/plain": [
       "<matplotlib.axes._subplots.AxesSubplot at 0x2aa1d1a7128>"
      ]
     },
     "execution_count": 32,
     "metadata": {},
     "output_type": "execute_result"
    },
    {
     "data": {
      "image/png": "[encoded data removed]",
      "text/plain": [
       "<Figure size 432x288 with 1 Axes>"
      ]
     },
     "metadata": {
      "needs_background": "light"
     },
     "output_type": "display_data"
    }
   ],
   "source": [
    "data['Service'].groupby(data['Country']).max().sort_values(ascending=False).head(10).plot(kind='bar')"
   ]
  },
  {
   "cell_type": "code",
   "execution_count": 33,
   "metadata": {},
   "outputs": [
    {
     "data": {
      "text/html": [
       "<div>\n",
       "<style scoped>\n",
       "    .dataframe tbody tr th:only-of-type {\n",
       "        vertical-align: middle;\n",
       "    }\n",
       "\n",
       "    .dataframe tbody tr th {\n",
       "        vertical-align: top;\n",
       "    }\n",
       "\n",
       "    .dataframe thead th {\n",
       "        text-align: right;\n",
       "    }\n",
       "</style>\n",
       "<table border=\"1\" class=\"dataframe\">\n",
       "  <thead>\n",
       "    <tr style=\"text-align: right;\">\n",
       "      <th></th>\n",
       "      <th>Population</th>\n",
       "      <th>Area (sq. mi.)</th>\n",
       "      <th>Pop. Density (per sq. mi.)</th>\n",
       "      <th>Coastline (coast/area ratio)</th>\n",
       "      <th>Net migration</th>\n",
       "      <th>Infant mortality (per 1000 births)</th>\n",
       "      <th>GDP ($ per capita)</th>\n",
       "      <th>Literacy (%)</th>\n",
       "      <th>Phones (per 1000)</th>\n",
       "      <th>Arable (%)</th>\n",
       "      <th>Crops (%)</th>\n",
       "      <th>Other (%)</th>\n",
       "      <th>Climate</th>\n",
       "      <th>Birthrate</th>\n",
       "      <th>Deathrate</th>\n",
       "      <th>Agriculture</th>\n",
       "      <th>Industry</th>\n",
       "      <th>Service</th>\n",
       "    </tr>\n",
       "  </thead>\n",
       "  <tbody>\n",
       "    <tr>\n",
       "      <th>Population</th>\n",
       "      <td>1.000000</td>\n",
       "      <td>0.469985</td>\n",
       "      <td>-0.028190</td>\n",
       "      <td>-0.068199</td>\n",
       "      <td>0.000036</td>\n",
       "      <td>0.024298</td>\n",
       "      <td>-0.038208</td>\n",
       "      <td>-0.043376</td>\n",
       "      <td>-0.029663</td>\n",
       "      <td>0.188704</td>\n",
       "      <td>-0.059782</td>\n",
       "      <td>-0.120575</td>\n",
       "      <td>-0.026439</td>\n",
       "      <td>-0.044189</td>\n",
       "      <td>-0.027215</td>\n",
       "      <td>0.000375</td>\n",
       "      <td>0.099109</td>\n",
       "      <td>-0.080681</td>\n",
       "    </tr>\n",
       "    <tr>\n",
       "      <th>Area (sq. mi.)</th>\n",
       "      <td>0.469985</td>\n",
       "      <td>1.000000</td>\n",
       "      <td>-0.066917</td>\n",
       "      <td>-0.095627</td>\n",
       "      <td>0.047472</td>\n",
       "      <td>-0.005594</td>\n",
       "      <td>0.072823</td>\n",
       "      <td>0.035784</td>\n",
       "      <td>0.054703</td>\n",
       "      <td>-0.078881</td>\n",
       "      <td>-0.142477</td>\n",
       "      <td>0.138904</td>\n",
       "      <td>-0.082128</td>\n",
       "      <td>-0.065285</td>\n",
       "      <td>0.041447</td>\n",
       "      <td>-0.050380</td>\n",
       "      <td>0.120907</td>\n",
       "      <td>-0.054080</td>\n",
       "    </tr>\n",
       "    <tr>\n",
       "      <th>Pop. Density (per sq. mi.)</th>\n",
       "      <td>-0.028190</td>\n",
       "      <td>-0.066917</td>\n",
       "      <td>1.000000</td>\n",
       "      <td>0.241690</td>\n",
       "      <td>0.178011</td>\n",
       "      <td>-0.142953</td>\n",
       "      <td>0.196321</td>\n",
       "      <td>0.095056</td>\n",
       "      <td>0.280802</td>\n",
       "      <td>-0.081404</td>\n",
       "      <td>-0.032330</td>\n",
       "      <td>0.081844</td>\n",
       "      <td>0.006830</td>\n",
       "      <td>-0.158282</td>\n",
       "      <td>-0.069021</td>\n",
       "      <td>-0.105925</td>\n",
       "      <td>-0.105524</td>\n",
       "      <td>0.187798</td>\n",
       "    </tr>\n",
       "    <tr>\n",
       "      <th>Coastline (coast/area ratio)</th>\n",
       "      <td>-0.068199</td>\n",
       "      <td>-0.095627</td>\n",
       "      <td>0.241690</td>\n",
       "      <td>1.000000</td>\n",
       "      <td>-0.134051</td>\n",
       "      <td>-0.137171</td>\n",
       "      <td>0.050233</td>\n",
       "      <td>0.113651</td>\n",
       "      <td>0.152497</td>\n",
       "      <td>-0.121735</td>\n",
       "      <td>0.339312</td>\n",
       "      <td>-0.079404</td>\n",
       "      <td>-0.031614</td>\n",
       "      <td>-0.075378</td>\n",
       "      <td>-0.161813</td>\n",
       "      <td>-0.028483</td>\n",
       "      <td>-0.185124</td>\n",
       "      <td>0.181939</td>\n",
       "    </tr>\n",
       "    <tr>\n",
       "      <th>Net migration</th>\n",
       "      <td>0.000036</td>\n",
       "      <td>0.047472</td>\n",
       "      <td>0.178011</td>\n",
       "      <td>-0.134051</td>\n",
       "      <td>1.000000</td>\n",
       "      <td>-0.024945</td>\n",
       "      <td>0.381256</td>\n",
       "      <td>-0.008468</td>\n",
       "      <td>0.239220</td>\n",
       "      <td>-0.060119</td>\n",
       "      <td>-0.344059</td>\n",
       "      <td>0.222827</td>\n",
       "      <td>-0.014804</td>\n",
       "      <td>-0.066087</td>\n",
       "      <td>0.033964</td>\n",
       "      <td>-0.105674</td>\n",
       "      <td>-0.023631</td>\n",
       "      <td>0.113692</td>\n",
       "    </tr>\n",
       "    <tr>\n",
       "      <th>Infant mortality (per 1000 births)</th>\n",
       "      <td>0.024298</td>\n",
       "      <td>-0.005594</td>\n",
       "      <td>-0.142953</td>\n",
       "      <td>-0.137171</td>\n",
       "      <td>-0.024945</td>\n",
       "      <td>1.000000</td>\n",
       "      <td>-0.594430</td>\n",
       "      <td>-0.742720</td>\n",
       "      <td>-0.666106</td>\n",
       "      <td>-0.110154</td>\n",
       "      <td>-0.066185</td>\n",
       "      <td>0.123544</td>\n",
       "      <td>-0.338576</td>\n",
       "      <td>0.845636</td>\n",
       "      <td>0.656874</td>\n",
       "      <td>0.696524</td>\n",
       "      <td>0.006061</td>\n",
       "      <td>-0.618190</td>\n",
       "    </tr>\n",
       "    <tr>\n",
       "      <th>GDP ($ per capita)</th>\n",
       "      <td>-0.038208</td>\n",
       "      <td>0.072823</td>\n",
       "      <td>0.196321</td>\n",
       "      <td>0.050233</td>\n",
       "      <td>0.381256</td>\n",
       "      <td>-0.594430</td>\n",
       "      <td>1.000000</td>\n",
       "      <td>0.496942</td>\n",
       "      <td>0.830146</td>\n",
       "      <td>0.023746</td>\n",
       "      <td>-0.215990</td>\n",
       "      <td>0.092145</td>\n",
       "      <td>0.309098</td>\n",
       "      <td>-0.644061</td>\n",
       "      <td>-0.197143</td>\n",
       "      <td>-0.569565</td>\n",
       "      <td>-0.027878</td>\n",
       "      <td>0.533310</td>\n",
       "    </tr>\n",
       "    <tr>\n",
       "      <th>Literacy (%)</th>\n",
       "      <td>-0.043376</td>\n",
       "      <td>0.035784</td>\n",
       "      <td>0.095056</td>\n",
       "      <td>0.113651</td>\n",
       "      <td>-0.008468</td>\n",
       "      <td>-0.742720</td>\n",
       "      <td>0.496942</td>\n",
       "      <td>1.000000</td>\n",
       "      <td>0.549288</td>\n",
       "      <td>0.101897</td>\n",
       "      <td>0.038777</td>\n",
       "      <td>-0.102439</td>\n",
       "      <td>0.352569</td>\n",
       "      <td>-0.753165</td>\n",
       "      <td>-0.385410</td>\n",
       "      <td>-0.585492</td>\n",
       "      <td>0.060661</td>\n",
       "      <td>0.465706</td>\n",
       "    </tr>\n",
       "    <tr>\n",
       "      <th>Phones (per 1000)</th>\n",
       "      <td>-0.029663</td>\n",
       "      <td>0.054703</td>\n",
       "      <td>0.280802</td>\n",
       "      <td>0.152497</td>\n",
       "      <td>0.239220</td>\n",
       "      <td>-0.666106</td>\n",
       "      <td>0.830146</td>\n",
       "      <td>0.549288</td>\n",
       "      <td>1.000000</td>\n",
       "      <td>0.059448</td>\n",
       "      <td>-0.150963</td>\n",
       "      <td>0.026688</td>\n",
       "      <td>0.359336</td>\n",
       "      <td>-0.719766</td>\n",
       "      <td>-0.257397</td>\n",
       "      <td>-0.569871</td>\n",
       "      <td>-0.139231</td>\n",
       "      <td>0.624269</td>\n",
       "    </tr>\n",
       "    <tr>\n",
       "      <th>Arable (%)</th>\n",
       "      <td>0.188704</td>\n",
       "      <td>-0.078881</td>\n",
       "      <td>-0.081404</td>\n",
       "      <td>-0.121735</td>\n",
       "      <td>-0.060119</td>\n",
       "      <td>-0.110154</td>\n",
       "      <td>0.023746</td>\n",
       "      <td>0.101897</td>\n",
       "      <td>0.059448</td>\n",
       "      <td>1.000000</td>\n",
       "      <td>0.095226</td>\n",
       "      <td>-0.856508</td>\n",
       "      <td>0.352089</td>\n",
       "      <td>-0.183561</td>\n",
       "      <td>0.053051</td>\n",
       "      <td>-0.033089</td>\n",
       "      <td>-0.060327</td>\n",
       "      <td>0.086435</td>\n",
       "    </tr>\n",
       "    <tr>\n",
       "      <th>Crops (%)</th>\n",
       "      <td>-0.059782</td>\n",
       "      <td>-0.142477</td>\n",
       "      <td>-0.032330</td>\n",
       "      <td>0.339312</td>\n",
       "      <td>-0.344059</td>\n",
       "      <td>-0.066185</td>\n",
       "      <td>-0.215990</td>\n",
       "      <td>0.038777</td>\n",
       "      <td>-0.150963</td>\n",
       "      <td>0.095226</td>\n",
       "      <td>1.000000</td>\n",
       "      <td>-0.593785</td>\n",
       "      <td>0.002078</td>\n",
       "      <td>0.114433</td>\n",
       "      <td>-0.204403</td>\n",
       "      <td>0.052925</td>\n",
       "      <td>-0.111133</td>\n",
       "      <td>0.048370</td>\n",
       "    </tr>\n",
       "    <tr>\n",
       "      <th>Other (%)</th>\n",
       "      <td>-0.120575</td>\n",
       "      <td>0.138904</td>\n",
       "      <td>0.081844</td>\n",
       "      <td>-0.079404</td>\n",
       "      <td>0.222827</td>\n",
       "      <td>0.123544</td>\n",
       "      <td>0.092145</td>\n",
       "      <td>-0.102439</td>\n",
       "      <td>0.026688</td>\n",
       "      <td>-0.856508</td>\n",
       "      <td>-0.593785</td>\n",
       "      <td>1.000000</td>\n",
       "      <td>-0.287632</td>\n",
       "      <td>0.088019</td>\n",
       "      <td>0.063418</td>\n",
       "      <td>0.000954</td>\n",
       "      <td>0.108953</td>\n",
       "      <td>-0.098554</td>\n",
       "    </tr>\n",
       "    <tr>\n",
       "      <th>Climate</th>\n",
       "      <td>-0.026439</td>\n",
       "      <td>-0.082128</td>\n",
       "      <td>0.006830</td>\n",
       "      <td>-0.031614</td>\n",
       "      <td>-0.014804</td>\n",
       "      <td>-0.338576</td>\n",
       "      <td>0.309098</td>\n",
       "      <td>0.352569</td>\n",
       "      <td>0.359336</td>\n",
       "      <td>0.352089</td>\n",
       "      <td>0.002078</td>\n",
       "      <td>-0.287632</td>\n",
       "      <td>1.000000</td>\n",
       "      <td>-0.424781</td>\n",
       "      <td>0.013123</td>\n",
       "      <td>-0.200416</td>\n",
       "      <td>-0.089925</td>\n",
       "      <td>0.260911</td>\n",
       "    </tr>\n",
       "    <tr>\n",
       "      <th>Birthrate</th>\n",
       "      <td>-0.044189</td>\n",
       "      <td>-0.065285</td>\n",
       "      <td>-0.158282</td>\n",
       "      <td>-0.075378</td>\n",
       "      <td>-0.066087</td>\n",
       "      <td>0.845636</td>\n",
       "      <td>-0.644061</td>\n",
       "      <td>-0.753165</td>\n",
       "      <td>-0.719766</td>\n",
       "      <td>-0.183561</td>\n",
       "      <td>0.114433</td>\n",
       "      <td>0.088019</td>\n",
       "      <td>-0.424781</td>\n",
       "      <td>1.000000</td>\n",
       "      <td>0.396017</td>\n",
       "      <td>0.664371</td>\n",
       "      <td>-0.055318</td>\n",
       "      <td>-0.542011</td>\n",
       "    </tr>\n",
       "    <tr>\n",
       "      <th>Deathrate</th>\n",
       "      <td>-0.027215</td>\n",
       "      <td>0.041447</td>\n",
       "      <td>-0.069021</td>\n",
       "      <td>-0.161813</td>\n",
       "      <td>0.033964</td>\n",
       "      <td>0.656874</td>\n",
       "      <td>-0.197143</td>\n",
       "      <td>-0.385410</td>\n",
       "      <td>-0.257397</td>\n",
       "      <td>0.053051</td>\n",
       "      <td>-0.204403</td>\n",
       "      <td>0.063418</td>\n",
       "      <td>0.013123</td>\n",
       "      <td>0.396017</td>\n",
       "      <td>1.000000</td>\n",
       "      <td>0.375893</td>\n",
       "      <td>0.028524</td>\n",
       "      <td>-0.351630</td>\n",
       "    </tr>\n",
       "    <tr>\n",
       "      <th>Agriculture</th>\n",
       "      <td>0.000375</td>\n",
       "      <td>-0.050380</td>\n",
       "      <td>-0.105925</td>\n",
       "      <td>-0.028483</td>\n",
       "      <td>-0.105674</td>\n",
       "      <td>0.696524</td>\n",
       "      <td>-0.569565</td>\n",
       "      <td>-0.585492</td>\n",
       "      <td>-0.569871</td>\n",
       "      <td>-0.033089</td>\n",
       "      <td>0.052925</td>\n",
       "      <td>0.000954</td>\n",
       "      <td>-0.200416</td>\n",
       "      <td>0.664371</td>\n",
       "      <td>0.375893</td>\n",
       "      <td>1.000000</td>\n",
       "      <td>-0.322896</td>\n",
       "      <td>-0.615556</td>\n",
       "    </tr>\n",
       "    <tr>\n",
       "      <th>Industry</th>\n",
       "      <td>0.099109</td>\n",
       "      <td>0.120907</td>\n",
       "      <td>-0.105524</td>\n",
       "      <td>-0.185124</td>\n",
       "      <td>-0.023631</td>\n",
       "      <td>0.006061</td>\n",
       "      <td>-0.027878</td>\n",
       "      <td>0.060661</td>\n",
       "      <td>-0.139231</td>\n",
       "      <td>-0.060327</td>\n",
       "      <td>-0.111133</td>\n",
       "      <td>0.108953</td>\n",
       "      <td>-0.089925</td>\n",
       "      <td>-0.055318</td>\n",
       "      <td>0.028524</td>\n",
       "      <td>-0.322896</td>\n",
       "      <td>1.000000</td>\n",
       "      <td>-0.543305</td>\n",
       "    </tr>\n",
       "    <tr>\n",
       "      <th>Service</th>\n",
       "      <td>-0.080681</td>\n",
       "      <td>-0.054080</td>\n",
       "      <td>0.187798</td>\n",
       "      <td>0.181939</td>\n",
       "      <td>0.113692</td>\n",
       "      <td>-0.618190</td>\n",
       "      <td>0.533310</td>\n",
       "      <td>0.465706</td>\n",
       "      <td>0.624269</td>\n",
       "      <td>0.086435</td>\n",
       "      <td>0.048370</td>\n",
       "      <td>-0.098554</td>\n",
       "      <td>0.260911</td>\n",
       "      <td>-0.542011</td>\n",
       "      <td>-0.351630</td>\n",
       "      <td>-0.615556</td>\n",
       "      <td>-0.543305</td>\n",
       "      <td>1.000000</td>\n",
       "    </tr>\n",
       "  </tbody>\n",
       "</table>\n",
       "</div>"
      ],
      "text/plain": [
       "                                    Population  Area (sq. mi.)  \\\n",
       "Population                            1.000000        0.469985   \n",
       "Area (sq. mi.)                        0.469985        1.000000   \n",
       "Pop. Density (per sq. mi.)           -0.028190       -0.066917   \n",
       "Coastline (coast/area ratio)         -0.068199       -0.095627   \n",
       "Net migration                         0.000036        0.047472   \n",
       "Infant mortality (per 1000 births)    0.024298       -0.005594   \n",
       "GDP ($ per capita)                   -0.038208        0.072823   \n",
       "Literacy (%)                         -0.043376        0.035784   \n",
       "Phones (per 1000)                    -0.029663        0.054703   \n",
       "Arable (%)                            0.188704       -0.078881   \n",
       "Crops (%)                            -0.059782       -0.142477   \n",
       "Other (%)                            -0.120575        0.138904   \n",
       "Climate                              -0.026439       -0.082128   \n",
       "Birthrate                            -0.044189       -0.065285   \n",
       "Deathrate                            -0.027215        0.041447   \n",
       "Agriculture                           0.000375       -0.050380   \n",
       "Industry                              0.099109        0.120907   \n",
       "Service                              -0.080681       -0.054080   \n",
       "\n",
       "                                    Pop. Density (per sq. mi.)  \\\n",
       "Population                                           -0.028190   \n",
       "Area (sq. mi.)                                       -0.066917   \n",
       "Pop. Density (per sq. mi.)                            1.000000   \n",
       "Coastline (coast/area ratio)                          0.241690   \n",
       "Net migration                                         0.178011   \n",
       "Infant mortality (per 1000 births)                   -0.142953   \n",
       "GDP ($ per capita)                                    0.196321   \n",
       "Literacy (%)                                          0.095056   \n",
       "Phones (per 1000)                                     0.280802   \n",
       "Arable (%)                                           -0.081404   \n",
       "Crops (%)                                            -0.032330   \n",
       "Other (%)                                             0.081844   \n",
       "Climate                                               0.006830   \n",
       "Birthrate                                            -0.158282   \n",
       "Deathrate                                            -0.069021   \n",
       "Agriculture                                          -0.105925   \n",
       "Industry                                             -0.105524   \n",
       "Service                                               0.187798   \n",
       "\n",
       "                                    Coastline (coast/area ratio)  \\\n",
       "Population                                             -0.068199   \n",
       "Area (sq. mi.)                                         -0.095627   \n",
       "Pop. Density (per sq. mi.)                              0.241690   \n",
       "Coastline (coast/area ratio)                            1.000000   \n",
       "Net migration                                          -0.134051   \n",
       "Infant mortality (per 1000 births)                     -0.137171   \n",
       "GDP ($ per capita)                                      0.050233   \n",
       "Literacy (%)                                            0.113651   \n",
       "Phones (per 1000)                                       0.152497   \n",
       "Arable (%)                                             -0.121735   \n",
       "Crops (%)                                               0.339312   \n",
       "Other (%)                                              -0.079404   \n",
       "Climate                                                -0.031614   \n",
       "Birthrate                                              -0.075378   \n",
       "Deathrate                                              -0.161813   \n",
       "Agriculture                                            -0.028483   \n",
       "Industry                                               -0.185124   \n",
       "Service                                                 0.181939   \n",
       "\n",
       "                                    Net migration  \\\n",
       "Population                               0.000036   \n",
       "Area (sq. mi.)                           0.047472   \n",
       "Pop. Density (per sq. mi.)               0.178011   \n",
       "Coastline (coast/area ratio)            -0.134051   \n",
       "Net migration                            1.000000   \n",
       "Infant mortality (per 1000 births)      -0.024945   \n",
       "GDP ($ per capita)                       0.381256   \n",
       "Literacy (%)                            -0.008468   \n",
       "Phones (per 1000)                        0.239220   \n",
       "Arable (%)                              -0.060119   \n",
       "Crops (%)                               -0.344059   \n",
       "Other (%)                                0.222827   \n",
       "Climate                                 -0.014804   \n",
       "Birthrate                               -0.066087   \n",
       "Deathrate                                0.033964   \n",
       "Agriculture                             -0.105674   \n",
       "Industry                                -0.023631   \n",
       "Service                                  0.113692   \n",
       "\n",
       "                                    Infant mortality (per 1000 births)  \\\n",
       "Population                                                    0.024298   \n",
       "Area (sq. mi.)                                               -0.005594   \n",
       "Pop. Density (per sq. mi.)                                   -0.142953   \n",
       "Coastline (coast/area ratio)                                 -0.137171   \n",
       "Net migration                                                -0.024945   \n",
       "Infant mortality (per 1000 births)                            1.000000   \n",
       "GDP ($ per capita)                                           -0.594430   \n",
       "Literacy (%)                                                 -0.742720   \n",
       "Phones (per 1000)                                            -0.666106   \n",
       "Arable (%)                                                   -0.110154   \n",
       "Crops (%)                                                    -0.066185   \n",
       "Other (%)                                                     0.123544   \n",
       "Climate                                                      -0.338576   \n",
       "Birthrate                                                     0.845636   \n",
       "Deathrate                                                     0.656874   \n",
       "Agriculture                                                   0.696524   \n",
       "Industry                                                      0.006061   \n",
       "Service                                                      -0.618190   \n",
       "\n",
       "                                    GDP ($ per capita)  Literacy (%)  \\\n",
       "Population                                   -0.038208     -0.043376   \n",
       "Area (sq. mi.)                                0.072823      0.035784   \n",
       "Pop. Density (per sq. mi.)                    0.196321      0.095056   \n",
       "Coastline (coast/area ratio)                  0.050233      0.113651   \n",
       "Net migration                                 0.381256     -0.008468   \n",
       "Infant mortality (per 1000 births)           -0.594430     -0.742720   \n",
       "GDP ($ per capita)                            1.000000      0.496942   \n",
       "Literacy (%)                                  0.496942      1.000000   \n",
       "Phones (per 1000)                             0.830146      0.549288   \n",
       "Arable (%)                                    0.023746      0.101897   \n",
       "Crops (%)                                    -0.215990      0.038777   \n",
       "Other (%)                                     0.092145     -0.102439   \n",
       "Climate                                       0.309098      0.352569   \n",
       "Birthrate                                    -0.644061     -0.753165   \n",
       "Deathrate                                    -0.197143     -0.385410   \n",
       "Agriculture                                  -0.569565     -0.585492   \n",
       "Industry                                     -0.027878      0.060661   \n",
       "Service                                       0.533310      0.465706   \n",
       "\n",
       "                                    Phones (per 1000)  Arable (%)  Crops (%)  \\\n",
       "Population                                  -0.029663    0.188704  -0.059782   \n",
       "Area (sq. mi.)                               0.054703   -0.078881  -0.142477   \n",
       "Pop. Density (per sq. mi.)                   0.280802   -0.081404  -0.032330   \n",
       "Coastline (coast/area ratio)                 0.152497   -0.121735   0.339312   \n",
       "Net migration                                0.239220   -0.060119  -0.344059   \n",
       "Infant mortality (per 1000 births)          -0.666106   -0.110154  -0.066185   \n",
       "GDP ($ per capita)                           0.830146    0.023746  -0.215990   \n",
       "Literacy (%)                                 0.549288    0.101897   0.038777   \n",
       "Phones (per 1000)                            1.000000    0.059448  -0.150963   \n",
       "Arable (%)                                   0.059448    1.000000   0.095226   \n",
       "Crops (%)                                   -0.150963    0.095226   1.000000   \n",
       "Other (%)                                    0.026688   -0.856508  -0.593785   \n",
       "Climate                                      0.359336    0.352089   0.002078   \n",
       "Birthrate                                   -0.719766   -0.183561   0.114433   \n",
       "Deathrate                                   -0.257397    0.053051  -0.204403   \n",
       "Agriculture                                 -0.569871   -0.033089   0.052925   \n",
       "Industry                                    -0.139231   -0.060327  -0.111133   \n",
       "Service                                      0.624269    0.086435   0.048370   \n",
       "\n",
       "                                    Other (%)   Climate  Birthrate  Deathrate  \\\n",
       "Population                          -0.120575 -0.026439  -0.044189  -0.027215   \n",
       "Area (sq. mi.)                       0.138904 -0.082128  -0.065285   0.041447   \n",
       "Pop. Density (per sq. mi.)           0.081844  0.006830  -0.158282  -0.069021   \n",
       "Coastline (coast/area ratio)        -0.079404 -0.031614  -0.075378  -0.161813   \n",
       "Net migration                        0.222827 -0.014804  -0.066087   0.033964   \n",
       "Infant mortality (per 1000 births)   0.123544 -0.338576   0.845636   0.656874   \n",
       "GDP ($ per capita)                   0.092145  0.309098  -0.644061  -0.197143   \n",
       "Literacy (%)                        -0.102439  0.352569  -0.753165  -0.385410   \n",
       "Phones (per 1000)                    0.026688  0.359336  -0.719766  -0.257397   \n",
       "Arable (%)                          -0.856508  0.352089  -0.183561   0.053051   \n",
       "Crops (%)                           -0.593785  0.002078   0.114433  -0.204403   \n",
       "Other (%)                            1.000000 -0.287632   0.088019   0.063418   \n",
       "Climate                             -0.287632  1.000000  -0.424781   0.013123   \n",
       "Birthrate                            0.088019 -0.424781   1.000000   0.396017   \n",
       "Deathrate                            0.063418  0.013123   0.396017   1.000000   \n",
       "Agriculture                          0.000954 -0.200416   0.664371   0.375893   \n",
       "Industry                             0.108953 -0.089925  -0.055318   0.028524   \n",
       "Service                             -0.098554  0.260911  -0.542011  -0.351630   \n",
       "\n",
       "                                    Agriculture  Industry   Service  \n",
       "Population                             0.000375  0.099109 -0.080681  \n",
       "Area (sq. mi.)                        -0.050380  0.120907 -0.054080  \n",
       "Pop. Density (per sq. mi.)            -0.105925 -0.105524  0.187798  \n",
       "Coastline (coast/area ratio)          -0.028483 -0.185124  0.181939  \n",
       "Net migration                         -0.105674 -0.023631  0.113692  \n",
       "Infant mortality (per 1000 births)     0.696524  0.006061 -0.618190  \n",
       "GDP ($ per capita)                    -0.569565 -0.027878  0.533310  \n",
       "Literacy (%)                          -0.585492  0.060661  0.465706  \n",
       "Phones (per 1000)                     -0.569871 -0.139231  0.624269  \n",
       "Arable (%)                            -0.033089 -0.060327  0.086435  \n",
       "Crops (%)                              0.052925 -0.111133  0.048370  \n",
       "Other (%)                              0.000954  0.108953 -0.098554  \n",
       "Climate                               -0.200416 -0.089925  0.260911  \n",
       "Birthrate                              0.664371 -0.055318 -0.542011  \n",
       "Deathrate                              0.375893  0.028524 -0.351630  \n",
       "Agriculture                            1.000000 -0.322896 -0.615556  \n",
       "Industry                              -0.322896  1.000000 -0.543305  \n",
       "Service                               -0.615556 -0.543305  1.000000  "
      ]
     },
     "execution_count": 33,
     "metadata": {},
     "output_type": "execute_result"
    }
   ],
   "source": [
    "data.corr()"
   ]
  },
  {
   "cell_type": "code",
   "execution_count": 34,
   "metadata": {},
   "outputs": [
    {
     "data": {
      "text/html": [
       "<div>\n",
       "<style scoped>\n",
       "    .dataframe tbody tr th:only-of-type {\n",
       "        vertical-align: middle;\n",
       "    }\n",
       "\n",
       "    .dataframe tbody tr th {\n",
       "        vertical-align: top;\n",
       "    }\n",
       "\n",
       "    .dataframe thead th {\n",
       "        text-align: right;\n",
       "    }\n",
       "</style>\n",
       "<table border=\"1\" class=\"dataframe\">\n",
       "  <thead>\n",
       "    <tr style=\"text-align: right;\">\n",
       "      <th></th>\n",
       "      <th>Population</th>\n",
       "      <th>Area (sq. mi.)</th>\n",
       "      <th>Pop. Density (per sq. mi.)</th>\n",
       "      <th>Coastline (coast/area ratio)</th>\n",
       "      <th>Net migration</th>\n",
       "      <th>Infant mortality (per 1000 births)</th>\n",
       "      <th>GDP ($ per capita)</th>\n",
       "      <th>Literacy (%)</th>\n",
       "      <th>Phones (per 1000)</th>\n",
       "      <th>Arable (%)</th>\n",
       "      <th>Crops (%)</th>\n",
       "      <th>Other (%)</th>\n",
       "      <th>Climate</th>\n",
       "      <th>Birthrate</th>\n",
       "      <th>Deathrate</th>\n",
       "      <th>Agriculture</th>\n",
       "      <th>Industry</th>\n",
       "      <th>Service</th>\n",
       "    </tr>\n",
       "  </thead>\n",
       "  <tbody>\n",
       "    <tr>\n",
       "      <th>Population</th>\n",
       "      <td>1.389836e+16</td>\n",
       "      <td>9.919446e+13</td>\n",
       "      <td>-5.517482e+09</td>\n",
       "      <td>-5.811909e+08</td>\n",
       "      <td>20715.307290</td>\n",
       "      <td>1.008103e+08</td>\n",
       "      <td>-4.525818e+10</td>\n",
       "      <td>-9.675244e+07</td>\n",
       "      <td>-7.906942e+08</td>\n",
       "      <td>2.889028e+08</td>\n",
       "      <td>-5.871471e+07</td>\n",
       "      <td>-2.284200e+08</td>\n",
       "      <td>-2.071145e+06</td>\n",
       "      <td>-5.787172e+07</td>\n",
       "      <td>-1.587891e+07</td>\n",
       "      <td>6266.859365</td>\n",
       "      <td>1.557340e+06</td>\n",
       "      <td>-1.524171e+06</td>\n",
       "    </tr>\n",
       "    <tr>\n",
       "      <th>Area (sq. mi.)</th>\n",
       "      <td>9.919446e+13</td>\n",
       "      <td>3.205111e+12</td>\n",
       "      <td>-1.988908e+08</td>\n",
       "      <td>-1.237552e+07</td>\n",
       "      <td>412763.258036</td>\n",
       "      <td>-3.524868e+05</td>\n",
       "      <td>1.309934e+09</td>\n",
       "      <td>1.212106e+06</td>\n",
       "      <td>2.214309e+07</td>\n",
       "      <td>-1.833944e+06</td>\n",
       "      <td>-2.125009e+06</td>\n",
       "      <td>3.996068e+06</td>\n",
       "      <td>-9.770022e+04</td>\n",
       "      <td>-1.298383e+06</td>\n",
       "      <td>3.672349e+05</td>\n",
       "      <td>-12793.327085</td>\n",
       "      <td>2.885125e+04</td>\n",
       "      <td>-1.551434e+04</td>\n",
       "    </tr>\n",
       "    <tr>\n",
       "      <th>Pop. Density (per sq. mi.)</th>\n",
       "      <td>-5.517482e+09</td>\n",
       "      <td>-1.988908e+08</td>\n",
       "      <td>2.756217e+06</td>\n",
       "      <td>2.900507e+04</td>\n",
       "      <td>1435.307210</td>\n",
       "      <td>-8.352402e+03</td>\n",
       "      <td>3.274767e+06</td>\n",
       "      <td>2.985849e+03</td>\n",
       "      <td>1.054056e+05</td>\n",
       "      <td>-1.755055e+03</td>\n",
       "      <td>-4.471499e+02</td>\n",
       "      <td>2.183419e+03</td>\n",
       "      <td>7.535139e+00</td>\n",
       "      <td>-2.919146e+03</td>\n",
       "      <td>-5.671091e+02</td>\n",
       "      <td>-24.943661</td>\n",
       "      <td>-2.335055e+01</td>\n",
       "      <td>4.996061e+01</td>\n",
       "    </tr>\n",
       "    <tr>\n",
       "      <th>Coastline (coast/area ratio)</th>\n",
       "      <td>-5.811909e+08</td>\n",
       "      <td>-1.237552e+07</td>\n",
       "      <td>2.900507e+04</td>\n",
       "      <td>5.225391e+03</td>\n",
       "      <td>-47.062220</td>\n",
       "      <td>-3.489665e+02</td>\n",
       "      <td>3.648399e+04</td>\n",
       "      <td>1.554409e+02</td>\n",
       "      <td>2.492454e+03</td>\n",
       "      <td>-1.142781e+02</td>\n",
       "      <td>2.043405e+02</td>\n",
       "      <td>-9.223513e+01</td>\n",
       "      <td>-1.518511e+00</td>\n",
       "      <td>-6.053009e+01</td>\n",
       "      <td>-5.788948e+01</td>\n",
       "      <td>-0.292050</td>\n",
       "      <td>-1.783661e+00</td>\n",
       "      <td>2.107487e+00</td>\n",
       "    </tr>\n",
       "    <tr>\n",
       "      <th>Net migration</th>\n",
       "      <td>2.071531e+04</td>\n",
       "      <td>4.127633e+05</td>\n",
       "      <td>1.435307e+03</td>\n",
       "      <td>-4.706222e+01</td>\n",
       "      <td>23.587650</td>\n",
       "      <td>-4.263723e+00</td>\n",
       "      <td>1.860443e+04</td>\n",
       "      <td>-7.781505e-01</td>\n",
       "      <td>2.626915e+02</td>\n",
       "      <td>-3.791800e+00</td>\n",
       "      <td>-1.392101e+01</td>\n",
       "      <td>1.739025e+01</td>\n",
       "      <td>-4.777434e-02</td>\n",
       "      <td>-3.565540e+00</td>\n",
       "      <td>8.163650e-01</td>\n",
       "      <td>-0.072797</td>\n",
       "      <td>-1.529698e-02</td>\n",
       "      <td>8.848106e-02</td>\n",
       "    </tr>\n",
       "    <tr>\n",
       "      <th>Infant mortality (per 1000 births)</th>\n",
       "      <td>1.008103e+08</td>\n",
       "      <td>-3.524868e+05</td>\n",
       "      <td>-8.352402e+03</td>\n",
       "      <td>-3.489665e+02</td>\n",
       "      <td>-4.263723</td>\n",
       "      <td>1.238576e+03</td>\n",
       "      <td>-2.101936e+05</td>\n",
       "      <td>-4.945595e+02</td>\n",
       "      <td>-5.300434e+03</td>\n",
       "      <td>-5.034419e+01</td>\n",
       "      <td>-1.940519e+01</td>\n",
       "      <td>6.986810e+01</td>\n",
       "      <td>-7.917765e+00</td>\n",
       "      <td>3.306072e+02</td>\n",
       "      <td>1.144120e+02</td>\n",
       "      <td>3.476999</td>\n",
       "      <td>2.843120e-02</td>\n",
       "      <td>-3.486278e+00</td>\n",
       "    </tr>\n",
       "    <tr>\n",
       "      <th>GDP ($ per capita)</th>\n",
       "      <td>-4.525818e+10</td>\n",
       "      <td>1.309934e+09</td>\n",
       "      <td>3.274767e+06</td>\n",
       "      <td>3.648399e+04</td>\n",
       "      <td>18604.426786</td>\n",
       "      <td>-2.101936e+05</td>\n",
       "      <td>1.009520e+08</td>\n",
       "      <td>9.447023e+04</td>\n",
       "      <td>1.885899e+06</td>\n",
       "      <td>3.098386e+03</td>\n",
       "      <td>-1.807951e+04</td>\n",
       "      <td>1.487736e+04</td>\n",
       "      <td>2.063661e+03</td>\n",
       "      <td>-7.188721e+04</td>\n",
       "      <td>-9.803178e+03</td>\n",
       "      <td>-811.722149</td>\n",
       "      <td>-3.733400e+01</td>\n",
       "      <td>8.586497e+02</td>\n",
       "    </tr>\n",
       "    <tr>\n",
       "      <th>Literacy (%)</th>\n",
       "      <td>-9.675244e+07</td>\n",
       "      <td>1.212106e+06</td>\n",
       "      <td>2.985849e+03</td>\n",
       "      <td>1.554409e+02</td>\n",
       "      <td>-0.778151</td>\n",
       "      <td>-4.945595e+02</td>\n",
       "      <td>9.447023e+04</td>\n",
       "      <td>3.579847e+02</td>\n",
       "      <td>2.349842e+03</td>\n",
       "      <td>2.503703e+01</td>\n",
       "      <td>6.112268e+00</td>\n",
       "      <td>-3.114542e+01</td>\n",
       "      <td>4.432624e+00</td>\n",
       "      <td>-1.583033e+02</td>\n",
       "      <td>-3.608968e+01</td>\n",
       "      <td>-1.571305</td>\n",
       "      <td>1.529788e-01</td>\n",
       "      <td>1.411960e+00</td>\n",
       "    </tr>\n",
       "    <tr>\n",
       "      <th>Phones (per 1000)</th>\n",
       "      <td>-7.906942e+08</td>\n",
       "      <td>2.214309e+07</td>\n",
       "      <td>1.054056e+05</td>\n",
       "      <td>2.492454e+03</td>\n",
       "      <td>262.691498</td>\n",
       "      <td>-5.300434e+03</td>\n",
       "      <td>1.885899e+06</td>\n",
       "      <td>2.349842e+03</td>\n",
       "      <td>5.112257e+04</td>\n",
       "      <td>1.745567e+02</td>\n",
       "      <td>-2.843633e+02</td>\n",
       "      <td>9.696495e+01</td>\n",
       "      <td>5.398733e+01</td>\n",
       "      <td>-1.807861e+03</td>\n",
       "      <td>-2.880301e+02</td>\n",
       "      <td>-18.276370</td>\n",
       "      <td>-4.195972e+00</td>\n",
       "      <td>2.261816e+01</td>\n",
       "    </tr>\n",
       "    <tr>\n",
       "      <th>Arable (%)</th>\n",
       "      <td>2.889028e+08</td>\n",
       "      <td>-1.833944e+06</td>\n",
       "      <td>-1.755055e+03</td>\n",
       "      <td>-1.142781e+02</td>\n",
       "      <td>-3.791800</td>\n",
       "      <td>-5.034419e+01</td>\n",
       "      <td>3.098386e+03</td>\n",
       "      <td>2.503703e+01</td>\n",
       "      <td>1.745567e+02</td>\n",
       "      <td>1.686472e+02</td>\n",
       "      <td>1.030244e+01</td>\n",
       "      <td>-1.787381e+02</td>\n",
       "      <td>3.038272e+00</td>\n",
       "      <td>-2.648117e+01</td>\n",
       "      <td>3.409692e+00</td>\n",
       "      <td>-0.060951</td>\n",
       "      <td>-1.044227e-01</td>\n",
       "      <td>1.798697e-01</td>\n",
       "    </tr>\n",
       "    <tr>\n",
       "      <th>Crops (%)</th>\n",
       "      <td>-5.871471e+07</td>\n",
       "      <td>-2.125009e+06</td>\n",
       "      <td>-4.471499e+02</td>\n",
       "      <td>2.043405e+02</td>\n",
       "      <td>-13.921008</td>\n",
       "      <td>-1.940519e+01</td>\n",
       "      <td>-1.807951e+04</td>\n",
       "      <td>6.112268e+00</td>\n",
       "      <td>-2.843633e+02</td>\n",
       "      <td>1.030244e+01</td>\n",
       "      <td>6.940503e+01</td>\n",
       "      <td>-7.949148e+01</td>\n",
       "      <td>1.150259e-02</td>\n",
       "      <td>1.059044e+01</td>\n",
       "      <td>-8.427715e+00</td>\n",
       "      <td>0.062541</td>\n",
       "      <td>-1.234040e-01</td>\n",
       "      <td>6.457276e-02</td>\n",
       "    </tr>\n",
       "    <tr>\n",
       "      <th>Other (%)</th>\n",
       "      <td>-2.284200e+08</td>\n",
       "      <td>3.996068e+06</td>\n",
       "      <td>2.183419e+03</td>\n",
       "      <td>-9.223513e+01</td>\n",
       "      <td>17.390254</td>\n",
       "      <td>6.986810e+01</td>\n",
       "      <td>1.487736e+04</td>\n",
       "      <td>-3.114542e+01</td>\n",
       "      <td>9.696495e+01</td>\n",
       "      <td>-1.787381e+02</td>\n",
       "      <td>-7.949148e+01</td>\n",
       "      <td>2.582210e+02</td>\n",
       "      <td>-3.071268e+00</td>\n",
       "      <td>1.571228e+01</td>\n",
       "      <td>5.043537e+00</td>\n",
       "      <td>0.002174</td>\n",
       "      <td>2.333589e-01</td>\n",
       "      <td>-2.537742e-01</td>\n",
       "    </tr>\n",
       "    <tr>\n",
       "      <th>Climate</th>\n",
       "      <td>-2.071145e+06</td>\n",
       "      <td>-9.770022e+04</td>\n",
       "      <td>7.535139e+00</td>\n",
       "      <td>-1.518511e+00</td>\n",
       "      <td>-0.047774</td>\n",
       "      <td>-7.917765e+00</td>\n",
       "      <td>2.063661e+03</td>\n",
       "      <td>4.432624e+00</td>\n",
       "      <td>5.398733e+01</td>\n",
       "      <td>3.038272e+00</td>\n",
       "      <td>1.150259e-02</td>\n",
       "      <td>-3.071268e+00</td>\n",
       "      <td>4.415390e-01</td>\n",
       "      <td>-3.135570e+00</td>\n",
       "      <td>4.315616e-02</td>\n",
       "      <td>-0.018890</td>\n",
       "      <td>-7.964399e-03</td>\n",
       "      <td>2.778148e-02</td>\n",
       "    </tr>\n",
       "    <tr>\n",
       "      <th>Birthrate</th>\n",
       "      <td>-5.787172e+07</td>\n",
       "      <td>-1.298383e+06</td>\n",
       "      <td>-2.919146e+03</td>\n",
       "      <td>-6.053009e+01</td>\n",
       "      <td>-3.565540</td>\n",
       "      <td>3.306072e+02</td>\n",
       "      <td>-7.188721e+04</td>\n",
       "      <td>-1.583033e+02</td>\n",
       "      <td>-1.807861e+03</td>\n",
       "      <td>-2.648117e+01</td>\n",
       "      <td>1.059044e+01</td>\n",
       "      <td>1.571228e+01</td>\n",
       "      <td>-3.135570e+00</td>\n",
       "      <td>1.234056e+02</td>\n",
       "      <td>2.177253e+01</td>\n",
       "      <td>1.046852</td>\n",
       "      <td>-8.190735e-02</td>\n",
       "      <td>-9.648388e-01</td>\n",
       "    </tr>\n",
       "    <tr>\n",
       "      <th>Deathrate</th>\n",
       "      <td>-1.587891e+07</td>\n",
       "      <td>3.672349e+05</td>\n",
       "      <td>-5.671091e+02</td>\n",
       "      <td>-5.788948e+01</td>\n",
       "      <td>0.816365</td>\n",
       "      <td>1.144120e+02</td>\n",
       "      <td>-9.803178e+03</td>\n",
       "      <td>-3.608968e+01</td>\n",
       "      <td>-2.880301e+02</td>\n",
       "      <td>3.409692e+00</td>\n",
       "      <td>-8.427715e+00</td>\n",
       "      <td>5.043537e+00</td>\n",
       "      <td>4.315616e-02</td>\n",
       "      <td>2.177253e+01</td>\n",
       "      <td>2.449379e+01</td>\n",
       "      <td>0.263876</td>\n",
       "      <td>1.881579e-02</td>\n",
       "      <td>-2.788646e-01</td>\n",
       "    </tr>\n",
       "    <tr>\n",
       "      <th>Agriculture</th>\n",
       "      <td>6.266859e+03</td>\n",
       "      <td>-1.279333e+04</td>\n",
       "      <td>-2.494366e+01</td>\n",
       "      <td>-2.920498e-01</td>\n",
       "      <td>-0.072797</td>\n",
       "      <td>3.476999e+00</td>\n",
       "      <td>-8.117221e+02</td>\n",
       "      <td>-1.571305e+00</td>\n",
       "      <td>-1.827637e+01</td>\n",
       "      <td>-6.095115e-02</td>\n",
       "      <td>6.254100e-02</td>\n",
       "      <td>2.173722e-03</td>\n",
       "      <td>-1.888964e-02</td>\n",
       "      <td>1.046852e+00</td>\n",
       "      <td>2.638756e-01</td>\n",
       "      <td>0.020119</td>\n",
       "      <td>-6.104637e-03</td>\n",
       "      <td>-1.399115e-02</td>\n",
       "    </tr>\n",
       "    <tr>\n",
       "      <th>Industry</th>\n",
       "      <td>1.557340e+06</td>\n",
       "      <td>2.885125e+04</td>\n",
       "      <td>-2.335055e+01</td>\n",
       "      <td>-1.783661e+00</td>\n",
       "      <td>-0.015297</td>\n",
       "      <td>2.843120e-02</td>\n",
       "      <td>-3.733400e+01</td>\n",
       "      <td>1.529788e-01</td>\n",
       "      <td>-4.195972e+00</td>\n",
       "      <td>-1.044227e-01</td>\n",
       "      <td>-1.234040e-01</td>\n",
       "      <td>2.333589e-01</td>\n",
       "      <td>-7.964399e-03</td>\n",
       "      <td>-8.190735e-02</td>\n",
       "      <td>1.881579e-02</td>\n",
       "      <td>-0.006105</td>\n",
       "      <td>1.776563e-02</td>\n",
       "      <td>-1.160413e-02</td>\n",
       "    </tr>\n",
       "    <tr>\n",
       "      <th>Service</th>\n",
       "      <td>-1.524171e+06</td>\n",
       "      <td>-1.551434e+04</td>\n",
       "      <td>4.996061e+01</td>\n",
       "      <td>2.107487e+00</td>\n",
       "      <td>0.088481</td>\n",
       "      <td>-3.486278e+00</td>\n",
       "      <td>8.586497e+02</td>\n",
       "      <td>1.411960e+00</td>\n",
       "      <td>2.261816e+01</td>\n",
       "      <td>1.798697e-01</td>\n",
       "      <td>6.457276e-02</td>\n",
       "      <td>-2.537742e-01</td>\n",
       "      <td>2.778148e-02</td>\n",
       "      <td>-9.648388e-01</td>\n",
       "      <td>-2.788646e-01</td>\n",
       "      <td>-0.013991</td>\n",
       "      <td>-1.160413e-02</td>\n",
       "      <td>2.567780e-02</td>\n",
       "    </tr>\n",
       "  </tbody>\n",
       "</table>\n",
       "</div>"
      ],
      "text/plain": [
       "                                      Population  Area (sq. mi.)  \\\n",
       "Population                          1.389836e+16    9.919446e+13   \n",
       "Area (sq. mi.)                      9.919446e+13    3.205111e+12   \n",
       "Pop. Density (per sq. mi.)         -5.517482e+09   -1.988908e+08   \n",
       "Coastline (coast/area ratio)       -5.811909e+08   -1.237552e+07   \n",
       "Net migration                       2.071531e+04    4.127633e+05   \n",
       "Infant mortality (per 1000 births)  1.008103e+08   -3.524868e+05   \n",
       "GDP ($ per capita)                 -4.525818e+10    1.309934e+09   \n",
       "Literacy (%)                       -9.675244e+07    1.212106e+06   \n",
       "Phones (per 1000)                  -7.906942e+08    2.214309e+07   \n",
       "Arable (%)                          2.889028e+08   -1.833944e+06   \n",
       "Crops (%)                          -5.871471e+07   -2.125009e+06   \n",
       "Other (%)                          -2.284200e+08    3.996068e+06   \n",
       "Climate                            -2.071145e+06   -9.770022e+04   \n",
       "Birthrate                          -5.787172e+07   -1.298383e+06   \n",
       "Deathrate                          -1.587891e+07    3.672349e+05   \n",
       "Agriculture                         6.266859e+03   -1.279333e+04   \n",
       "Industry                            1.557340e+06    2.885125e+04   \n",
       "Service                            -1.524171e+06   -1.551434e+04   \n",
       "\n",
       "                                    Pop. Density (per sq. mi.)  \\\n",
       "Population                                       -5.517482e+09   \n",
       "Area (sq. mi.)                                   -1.988908e+08   \n",
       "Pop. Density (per sq. mi.)                        2.756217e+06   \n",
       "Coastline (coast/area ratio)                      2.900507e+04   \n",
       "Net migration                                     1.435307e+03   \n",
       "Infant mortality (per 1000 births)               -8.352402e+03   \n",
       "GDP ($ per capita)                                3.274767e+06   \n",
       "Literacy (%)                                      2.985849e+03   \n",
       "Phones (per 1000)                                 1.054056e+05   \n",
       "Arable (%)                                       -1.755055e+03   \n",
       "Crops (%)                                        -4.471499e+02   \n",
       "Other (%)                                         2.183419e+03   \n",
       "Climate                                           7.535139e+00   \n",
       "Birthrate                                        -2.919146e+03   \n",
       "Deathrate                                        -5.671091e+02   \n",
       "Agriculture                                      -2.494366e+01   \n",
       "Industry                                         -2.335055e+01   \n",
       "Service                                           4.996061e+01   \n",
       "\n",
       "                                    Coastline (coast/area ratio)  \\\n",
       "Population                                         -5.811909e+08   \n",
       "Area (sq. mi.)                                     -1.237552e+07   \n",
       "Pop. Density (per sq. mi.)                          2.900507e+04   \n",
       "Coastline (coast/area ratio)                        5.225391e+03   \n",
       "Net migration                                      -4.706222e+01   \n",
       "Infant mortality (per 1000 births)                 -3.489665e+02   \n",
       "GDP ($ per capita)                                  3.648399e+04   \n",
       "Literacy (%)                                        1.554409e+02   \n",
       "Phones (per 1000)                                   2.492454e+03   \n",
       "Arable (%)                                         -1.142781e+02   \n",
       "Crops (%)                                           2.043405e+02   \n",
       "Other (%)                                          -9.223513e+01   \n",
       "Climate                                            -1.518511e+00   \n",
       "Birthrate                                          -6.053009e+01   \n",
       "Deathrate                                          -5.788948e+01   \n",
       "Agriculture                                        -2.920498e-01   \n",
       "Industry                                           -1.783661e+00   \n",
       "Service                                             2.107487e+00   \n",
       "\n",
       "                                    Net migration  \\\n",
       "Population                           20715.307290   \n",
       "Area (sq. mi.)                      412763.258036   \n",
       "Pop. Density (per sq. mi.)            1435.307210   \n",
       "Coastline (coast/area ratio)           -47.062220   \n",
       "Net migration                           23.587650   \n",
       "Infant mortality (per 1000 births)      -4.263723   \n",
       "GDP ($ per capita)                   18604.426786   \n",
       "Literacy (%)                            -0.778151   \n",
       "Phones (per 1000)                      262.691498   \n",
       "Arable (%)                              -3.791800   \n",
       "Crops (%)                              -13.921008   \n",
       "Other (%)                               17.390254   \n",
       "Climate                                 -0.047774   \n",
       "Birthrate                               -3.565540   \n",
       "Deathrate                                0.816365   \n",
       "Agriculture                             -0.072797   \n",
       "Industry                                -0.015297   \n",
       "Service                                  0.088481   \n",
       "\n",
       "                                    Infant mortality (per 1000 births)  \\\n",
       "Population                                                1.008103e+08   \n",
       "Area (sq. mi.)                                           -3.524868e+05   \n",
       "Pop. Density (per sq. mi.)                               -8.352402e+03   \n",
       "Coastline (coast/area ratio)                             -3.489665e+02   \n",
       "Net migration                                            -4.263723e+00   \n",
       "Infant mortality (per 1000 births)                        1.238576e+03   \n",
       "GDP ($ per capita)                                       -2.101936e+05   \n",
       "Literacy (%)                                             -4.945595e+02   \n",
       "Phones (per 1000)                                        -5.300434e+03   \n",
       "Arable (%)                                               -5.034419e+01   \n",
       "Crops (%)                                                -1.940519e+01   \n",
       "Other (%)                                                 6.986810e+01   \n",
       "Climate                                                  -7.917765e+00   \n",
       "Birthrate                                                 3.306072e+02   \n",
       "Deathrate                                                 1.144120e+02   \n",
       "Agriculture                                               3.476999e+00   \n",
       "Industry                                                  2.843120e-02   \n",
       "Service                                                  -3.486278e+00   \n",
       "\n",
       "                                    GDP ($ per capita)  Literacy (%)  \\\n",
       "Population                               -4.525818e+10 -9.675244e+07   \n",
       "Area (sq. mi.)                            1.309934e+09  1.212106e+06   \n",
       "Pop. Density (per sq. mi.)                3.274767e+06  2.985849e+03   \n",
       "Coastline (coast/area ratio)              3.648399e+04  1.554409e+02   \n",
       "Net migration                             1.860443e+04 -7.781505e-01   \n",
       "Infant mortality (per 1000 births)       -2.101936e+05 -4.945595e+02   \n",
       "GDP ($ per capita)                        1.009520e+08  9.447023e+04   \n",
       "Literacy (%)                              9.447023e+04  3.579847e+02   \n",
       "Phones (per 1000)                         1.885899e+06  2.349842e+03   \n",
       "Arable (%)                                3.098386e+03  2.503703e+01   \n",
       "Crops (%)                                -1.807951e+04  6.112268e+00   \n",
       "Other (%)                                 1.487736e+04 -3.114542e+01   \n",
       "Climate                                   2.063661e+03  4.432624e+00   \n",
       "Birthrate                                -7.188721e+04 -1.583033e+02   \n",
       "Deathrate                                -9.803178e+03 -3.608968e+01   \n",
       "Agriculture                              -8.117221e+02 -1.571305e+00   \n",
       "Industry                                 -3.733400e+01  1.529788e-01   \n",
       "Service                                   8.586497e+02  1.411960e+00   \n",
       "\n",
       "                                    Phones (per 1000)    Arable (%)  \\\n",
       "Population                              -7.906942e+08  2.889028e+08   \n",
       "Area (sq. mi.)                           2.214309e+07 -1.833944e+06   \n",
       "Pop. Density (per sq. mi.)               1.054056e+05 -1.755055e+03   \n",
       "Coastline (coast/area ratio)             2.492454e+03 -1.142781e+02   \n",
       "Net migration                            2.626915e+02 -3.791800e+00   \n",
       "Infant mortality (per 1000 births)      -5.300434e+03 -5.034419e+01   \n",
       "GDP ($ per capita)                       1.885899e+06  3.098386e+03   \n",
       "Literacy (%)                             2.349842e+03  2.503703e+01   \n",
       "Phones (per 1000)                        5.112257e+04  1.745567e+02   \n",
       "Arable (%)                               1.745567e+02  1.686472e+02   \n",
       "Crops (%)                               -2.843633e+02  1.030244e+01   \n",
       "Other (%)                                9.696495e+01 -1.787381e+02   \n",
       "Climate                                  5.398733e+01  3.038272e+00   \n",
       "Birthrate                               -1.807861e+03 -2.648117e+01   \n",
       "Deathrate                               -2.880301e+02  3.409692e+00   \n",
       "Agriculture                             -1.827637e+01 -6.095115e-02   \n",
       "Industry                                -4.195972e+00 -1.044227e-01   \n",
       "Service                                  2.261816e+01  1.798697e-01   \n",
       "\n",
       "                                       Crops (%)     Other (%)       Climate  \\\n",
       "Population                         -5.871471e+07 -2.284200e+08 -2.071145e+06   \n",
       "Area (sq. mi.)                     -2.125009e+06  3.996068e+06 -9.770022e+04   \n",
       "Pop. Density (per sq. mi.)         -4.471499e+02  2.183419e+03  7.535139e+00   \n",
       "Coastline (coast/area ratio)        2.043405e+02 -9.223513e+01 -1.518511e+00   \n",
       "Net migration                      -1.392101e+01  1.739025e+01 -4.777434e-02   \n",
       "Infant mortality (per 1000 births) -1.940519e+01  6.986810e+01 -7.917765e+00   \n",
       "GDP ($ per capita)                 -1.807951e+04  1.487736e+04  2.063661e+03   \n",
       "Literacy (%)                        6.112268e+00 -3.114542e+01  4.432624e+00   \n",
       "Phones (per 1000)                  -2.843633e+02  9.696495e+01  5.398733e+01   \n",
       "Arable (%)                          1.030244e+01 -1.787381e+02  3.038272e+00   \n",
       "Crops (%)                           6.940503e+01 -7.949148e+01  1.150259e-02   \n",
       "Other (%)                          -7.949148e+01  2.582210e+02 -3.071268e+00   \n",
       "Climate                             1.150259e-02 -3.071268e+00  4.415390e-01   \n",
       "Birthrate                           1.059044e+01  1.571228e+01 -3.135570e+00   \n",
       "Deathrate                          -8.427715e+00  5.043537e+00  4.315616e-02   \n",
       "Agriculture                         6.254100e-02  2.173722e-03 -1.888964e-02   \n",
       "Industry                           -1.234040e-01  2.333589e-01 -7.964399e-03   \n",
       "Service                             6.457276e-02 -2.537742e-01  2.778148e-02   \n",
       "\n",
       "                                       Birthrate     Deathrate   Agriculture  \\\n",
       "Population                         -5.787172e+07 -1.587891e+07   6266.859365   \n",
       "Area (sq. mi.)                     -1.298383e+06  3.672349e+05 -12793.327085   \n",
       "Pop. Density (per sq. mi.)         -2.919146e+03 -5.671091e+02    -24.943661   \n",
       "Coastline (coast/area ratio)       -6.053009e+01 -5.788948e+01     -0.292050   \n",
       "Net migration                      -3.565540e+00  8.163650e-01     -0.072797   \n",
       "Infant mortality (per 1000 births)  3.306072e+02  1.144120e+02      3.476999   \n",
       "GDP ($ per capita)                 -7.188721e+04 -9.803178e+03   -811.722149   \n",
       "Literacy (%)                       -1.583033e+02 -3.608968e+01     -1.571305   \n",
       "Phones (per 1000)                  -1.807861e+03 -2.880301e+02    -18.276370   \n",
       "Arable (%)                         -2.648117e+01  3.409692e+00     -0.060951   \n",
       "Crops (%)                           1.059044e+01 -8.427715e+00      0.062541   \n",
       "Other (%)                           1.571228e+01  5.043537e+00      0.002174   \n",
       "Climate                            -3.135570e+00  4.315616e-02     -0.018890   \n",
       "Birthrate                           1.234056e+02  2.177253e+01      1.046852   \n",
       "Deathrate                           2.177253e+01  2.449379e+01      0.263876   \n",
       "Agriculture                         1.046852e+00  2.638756e-01      0.020119   \n",
       "Industry                           -8.190735e-02  1.881579e-02     -0.006105   \n",
       "Service                            -9.648388e-01 -2.788646e-01     -0.013991   \n",
       "\n",
       "                                        Industry       Service  \n",
       "Population                          1.557340e+06 -1.524171e+06  \n",
       "Area (sq. mi.)                      2.885125e+04 -1.551434e+04  \n",
       "Pop. Density (per sq. mi.)         -2.335055e+01  4.996061e+01  \n",
       "Coastline (coast/area ratio)       -1.783661e+00  2.107487e+00  \n",
       "Net migration                      -1.529698e-02  8.848106e-02  \n",
       "Infant mortality (per 1000 births)  2.843120e-02 -3.486278e+00  \n",
       "GDP ($ per capita)                 -3.733400e+01  8.586497e+02  \n",
       "Literacy (%)                        1.529788e-01  1.411960e+00  \n",
       "Phones (per 1000)                  -4.195972e+00  2.261816e+01  \n",
       "Arable (%)                         -1.044227e-01  1.798697e-01  \n",
       "Crops (%)                          -1.234040e-01  6.457276e-02  \n",
       "Other (%)                           2.333589e-01 -2.537742e-01  \n",
       "Climate                            -7.964399e-03  2.778148e-02  \n",
       "Birthrate                          -8.190735e-02 -9.648388e-01  \n",
       "Deathrate                           1.881579e-02 -2.788646e-01  \n",
       "Agriculture                        -6.104637e-03 -1.399115e-02  \n",
       "Industry                            1.776563e-02 -1.160413e-02  \n",
       "Service                            -1.160413e-02  2.567780e-02  "
      ]
     },
     "execution_count": 34,
     "metadata": {},
     "output_type": "execute_result"
    }
   ],
   "source": [
    "data.cov()"
   ]
  },
  {
   "cell_type": "code",
   "execution_count": 35,
   "metadata": {},
   "outputs": [
    {
     "name": "stdout",
     "output_type": "stream",
     "text": [
      "<class 'pandas.core.frame.DataFrame'>\n",
      "RangeIndex: 227 entries, 0 to 226\n",
      "Data columns (total 20 columns):\n",
      "Country                               227 non-null object\n",
      "Region                                227 non-null object\n",
      "Population                            227 non-null int64\n",
      "Area (sq. mi.)                        227 non-null int64\n",
      "Pop. Density (per sq. mi.)            227 non-null float64\n",
      "Coastline (coast/area ratio)          227 non-null float64\n",
      "Net migration                         227 non-null float64\n",
      "Infant mortality (per 1000 births)    227 non-null float64\n",
      "GDP ($ per capita)                    227 non-null float64\n",
      "Literacy (%)                          227 non-null float64\n",
      "Phones (per 1000)                     227 non-null float64\n",
      "Arable (%)                            227 non-null float64\n",
      "Crops (%)                             227 non-null float64\n",
      "Other (%)                             227 non-null float64\n",
      "Climate                               227 non-null float64\n",
      "Birthrate                             227 non-null float64\n",
      "Deathrate                             227 non-null float64\n",
      "Agriculture                           227 non-null float64\n",
      "Industry                              227 non-null float64\n",
      "Service                               227 non-null float64\n",
      "dtypes: float64(16), int64(2), object(2)\n",
      "memory usage: 35.5+ KB\n"
     ]
    }
   ],
   "source": [
    "data.info()"
   ]
  },
  {
   "cell_type": "code",
   "execution_count": 36,
   "metadata": {},
   "outputs": [],
   "source": [
    "data=data[['GDP ($ per capita)','Country', 'Region', 'Population', 'Area (sq. mi.)',\n",
    "       'Pop. Density (per sq. mi.)', 'Coastline (coast/area ratio)',\n",
    "       'Net migration', 'Infant mortality (per 1000 births)', 'Literacy (%)',\n",
    "       'Phones (per 1000)', 'Arable (%)', 'Crops (%)', 'Other (%)', 'Climate',\n",
    "       'Birthrate', 'Deathrate', 'Agriculture', 'Industry', 'Service']]"
   ]
  },
  {
   "cell_type": "code",
   "execution_count": 37,
   "metadata": {},
   "outputs": [
    {
     "name": "stdout",
     "output_type": "stream",
     "text": [
      "<class 'pandas.core.frame.DataFrame'>\n",
      "RangeIndex: 227 entries, 0 to 226\n",
      "Data columns (total 20 columns):\n",
      "GDP ($ per capita)                    227 non-null float64\n",
      "Country                               227 non-null object\n",
      "Region                                227 non-null object\n",
      "Population                            227 non-null int64\n",
      "Area (sq. mi.)                        227 non-null int64\n",
      "Pop. Density (per sq. mi.)            227 non-null float64\n",
      "Coastline (coast/area ratio)          227 non-null float64\n",
      "Net migration                         227 non-null float64\n",
      "Infant mortality (per 1000 births)    227 non-null float64\n",
      "Literacy (%)                          227 non-null float64\n",
      "Phones (per 1000)                     227 non-null float64\n",
      "Arable (%)                            227 non-null float64\n",
      "Crops (%)                             227 non-null float64\n",
      "Other (%)                             227 non-null float64\n",
      "Climate                               227 non-null float64\n",
      "Birthrate                             227 non-null float64\n",
      "Deathrate                             227 non-null float64\n",
      "Agriculture                           227 non-null float64\n",
      "Industry                              227 non-null float64\n",
      "Service                               227 non-null float64\n",
      "dtypes: float64(16), int64(2), object(2)\n",
      "memory usage: 35.5+ KB\n"
     ]
    }
   ],
   "source": [
    "data.info()"
   ]
  },
  {
   "cell_type": "code",
   "execution_count": 38,
   "metadata": {},
   "outputs": [
    {
     "data": {
      "text/plain": [
       "(227, 17)"
      ]
     },
     "execution_count": 38,
     "metadata": {},
     "output_type": "execute_result"
    }
   ],
   "source": [
    "#Predicting the GDP($ per capita) from above data\n",
    "\n",
    "y=data.iloc[:,0]\n",
    "X=data.iloc[:,3:]\n",
    "\n",
    "X.shape"
   ]
  },
  {
   "cell_type": "code",
   "execution_count": 39,
   "metadata": {},
   "outputs": [
    {
     "data": {
      "text/plain": [
       "(227,)"
      ]
     },
     "execution_count": 39,
     "metadata": {},
     "output_type": "execute_result"
    }
   ],
   "source": [
    "y.shape"
   ]
  },
  {
   "cell_type": "code",
   "execution_count": 40,
   "metadata": {},
   "outputs": [],
   "source": [
    "from sklearn.model_selection import train_test_split\n",
    "X_train, X_test, y_train, y_test=train_test_split(X,y,test_size=0.2,random_state=7)"
   ]
  },
  {
   "cell_type": "code",
   "execution_count": 41,
   "metadata": {},
   "outputs": [],
   "source": [
    "from sklearn.linear_model import LinearRegression  #Doing Linear Regression\n",
    "regressor=LinearRegression()"
   ]
  },
  {
   "cell_type": "code",
   "execution_count": 42,
   "metadata": {},
   "outputs": [
    {
     "data": {
      "text/plain": [
       "LinearRegression(copy_X=True, fit_intercept=True, n_jobs=None,\n",
       "         normalize=False)"
      ]
     },
     "execution_count": 42,
     "metadata": {},
     "output_type": "execute_result"
    }
   ],
   "source": [
    "regressor.fit(X_train, y_train)"
   ]
  },
  {
   "cell_type": "code",
   "execution_count": 43,
   "metadata": {},
   "outputs": [],
   "source": [
    "y_pred=regressor.predict(X_test)"
   ]
  },
  {
   "cell_type": "code",
   "execution_count": 44,
   "metadata": {},
   "outputs": [
    {
     "data": {
      "text/plain": [
       "0.5060085062448183"
      ]
     },
     "execution_count": 44,
     "metadata": {},
     "output_type": "execute_result"
    }
   ],
   "source": [
    "from sklearn.metrics import r2_score\n",
    "r2_score(y_test, y_pred)"
   ]
  },
  {
   "cell_type": "code",
   "execution_count": null,
   "metadata": {},
   "outputs": [],
   "source": []
  }
 ],
 "metadata": {
  "kernelspec": {
   "display_name": "Python 3",
   "language": "python",
   "name": "python3"
  },
  "language_info": {
   "codemirror_mode": {
    "name": "ipython",
    "version": 3
   },
   "file_extension": ".py",
   "mimetype": "text/x-python",
   "name": "python",
   "nbconvert_exporter": "python",
   "pygments_lexer": "ipython3",
   "version": "3.7.1"
  }
 },
 "nbformat": 4,
 "nbformat_minor": 2
}
